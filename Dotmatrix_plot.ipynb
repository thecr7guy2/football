{
 "cells": [
  {
   "cell_type": "code",
   "execution_count": 16,
   "metadata": {},
   "outputs": [],
   "source": [
    "import numpy as np\n",
    "import pandas as pd\n",
    "import matplotlib.pyplot as plt \n",
    "import seaborn as sns\n",
    "import json\n",
    "from mplsoccer.pitch import Pitch\n",
    "%matplotlib inline  \n",
    "pd.options.mode.chained_assignment = None\n",
    "plt.style.use('ggplot')\n",
    "#importing all the needed libraries\n",
    "from adjustText import adjust_text\n",
    "from matplotlib.transforms import Affine2D\n",
    "import mpl_toolkits.axisartist.floating_axes as floating_axes\n",
    "import matplotlib.patches as patches\n",
    "# from pywaffle import Waffle\n",
    "# from highlight_text.htext import htext, fig_htext"
   ]
  },
  {
   "cell_type": "code",
   "execution_count": 17,
   "metadata": {},
   "outputs": [],
   "source": [
    "with open('open-data-master/data/matches/43/3.json') as m:\n",
    "    m = json.load(m)\n",
    "#Get thelist of matches played in 2018 World Cup"
   ]
  },
  {
   "cell_type": "code",
   "execution_count": 18,
   "metadata": {},
   "outputs": [],
   "source": [
    "m_id=[]\n",
    "for i in range(0,len(m)):\n",
    "    m_id.append(m[i][\"match_id\"])"
   ]
  },
  {
   "cell_type": "code",
   "execution_count": 19,
   "metadata": {},
   "outputs": [
    {
     "data": {
      "text/plain": [
       "64"
      ]
     },
     "execution_count": 19,
     "metadata": {},
     "output_type": "execute_result"
    }
   ],
   "source": [
    "len(m_id)"
   ]
  },
  {
   "cell_type": "code",
   "execution_count": 20,
   "metadata": {},
   "outputs": [],
   "source": [
    "#converting them to string so they are helpful when needed \n",
    "for i in range(0,len(m_id)):\n",
    "    m_id[i]=str(m_id[i])"
   ]
  },
  {
   "cell_type": "code",
   "execution_count": 21,
   "metadata": {},
   "outputs": [],
   "source": [
    "df=pd.DataFrame()\n",
    "for i in m_id:\n",
    "    match=json.load(open(\"open-data-master/data/events/\"+i+\".json\",encoding=\"utf8\"))\n",
    "    temp_df=pd.json_normalize(match).assign(match_id = int(i)) \n",
    "    df=pd.concat([df,temp_df],axis=0,)"
   ]
  },
  {
   "cell_type": "code",
   "execution_count": 22,
   "metadata": {},
   "outputs": [
    {
     "data": {
      "text/plain": [
       "(227886, 122)"
      ]
     },
     "execution_count": 22,
     "metadata": {},
     "output_type": "execute_result"
    }
   ],
   "source": [
    "df.shape"
   ]
  },
  {
   "cell_type": "code",
   "execution_count": 23,
   "metadata": {},
   "outputs": [
    {
     "data": {
      "text/plain": [
       "Index(['id', 'index', 'period', 'timestamp', 'minute', 'second', 'possession',\n",
       "       'duration', 'type.id', 'type.name', 'possession_team.id',\n",
       "       'possession_team.name', 'play_pattern.id', 'play_pattern.name',\n",
       "       'team.id', 'team.name', 'tactics.formation', 'tactics.lineup',\n",
       "       'related_events', 'location', 'player.id', 'player.name', 'position.id',\n",
       "       'position.name', 'pass.recipient.id', 'pass.recipient.name',\n",
       "       'pass.length', 'pass.angle', 'pass.height.id', 'pass.height.name',\n",
       "       'pass.end_location', 'pass.body_part.id', 'pass.body_part.name',\n",
       "       'pass.type.id', 'pass.type.name', 'under_pressure',\n",
       "       'carry.end_location', 'pass.outcome.id', 'pass.outcome.name',\n",
       "       'pass.aerial_won'],\n",
       "      dtype='object')"
      ]
     },
     "execution_count": 23,
     "metadata": {},
     "output_type": "execute_result"
    }
   ],
   "source": [
    "df.columns[:40]"
   ]
  },
  {
   "cell_type": "code",
   "execution_count": 24,
   "metadata": {},
   "outputs": [
    {
     "name": "stderr",
     "output_type": "stream",
     "text": [
      "/tmp/ipykernel_6026/1102010149.py:1: PerformanceWarning: DataFrame is highly fragmented.  This is usually the result of calling `frame.insert` many times, which has poor performance.  Consider joining all columns at once using pd.concat(axis=1) instead. To get a de-fragmented frame, use `newframe = frame.copy()`\n",
      "  df[\"total_time\"]=(df[\"minute\"]*60)+df[\"second\"]\n"
     ]
    }
   ],
   "source": [
    "df[\"total_time\"]=(df[\"minute\"]*60)+df[\"second\"]"
   ]
  },
  {
   "cell_type": "code",
   "execution_count": 25,
   "metadata": {},
   "outputs": [],
   "source": [
    "sh_df=df[df[\"type.name\"]==\"Shot\"][[\"type.name\",\"location\",\"minute\",\"second\",\"index\",\"possession_team.name\",\"match_id\",\"timestamp\",\"total_time\"]]"
   ]
  },
  {
   "cell_type": "code",
   "execution_count": 26,
   "metadata": {},
   "outputs": [],
   "source": [
    "sh_df=sh_df.reset_index(drop=True)"
   ]
  },
  {
   "cell_type": "code",
   "execution_count": 27,
   "metadata": {},
   "outputs": [
    {
     "data": {
      "text/html": [
       "<div>\n",
       "<style scoped>\n",
       "    .dataframe tbody tr th:only-of-type {\n",
       "        vertical-align: middle;\n",
       "    }\n",
       "\n",
       "    .dataframe tbody tr th {\n",
       "        vertical-align: top;\n",
       "    }\n",
       "\n",
       "    .dataframe thead th {\n",
       "        text-align: right;\n",
       "    }\n",
       "</style>\n",
       "<table border=\"1\" class=\"dataframe\">\n",
       "  <thead>\n",
       "    <tr style=\"text-align: right;\">\n",
       "      <th></th>\n",
       "      <th>type.name</th>\n",
       "      <th>location</th>\n",
       "      <th>minute</th>\n",
       "      <th>second</th>\n",
       "      <th>index</th>\n",
       "      <th>possession_team.name</th>\n",
       "      <th>match_id</th>\n",
       "      <th>timestamp</th>\n",
       "      <th>total_time</th>\n",
       "    </tr>\n",
       "  </thead>\n",
       "  <tbody>\n",
       "    <tr>\n",
       "      <th>0</th>\n",
       "      <td>Shot</td>\n",
       "      <td>[115.0, 34.0]</td>\n",
       "      <td>0</td>\n",
       "      <td>57</td>\n",
       "      <td>38</td>\n",
       "      <td>Denmark</td>\n",
       "      <td>7581</td>\n",
       "      <td>00:00:57.320</td>\n",
       "      <td>57</td>\n",
       "    </tr>\n",
       "    <tr>\n",
       "      <th>1</th>\n",
       "      <td>Shot</td>\n",
       "      <td>[112.0, 36.0]</td>\n",
       "      <td>3</td>\n",
       "      <td>39</td>\n",
       "      <td>122</td>\n",
       "      <td>Croatia</td>\n",
       "      <td>7581</td>\n",
       "      <td>00:03:39.880</td>\n",
       "      <td>219</td>\n",
       "    </tr>\n",
       "    <tr>\n",
       "      <th>2</th>\n",
       "      <td>Shot</td>\n",
       "      <td>[101.0, 55.0]</td>\n",
       "      <td>11</td>\n",
       "      <td>34</td>\n",
       "      <td>331</td>\n",
       "      <td>Croatia</td>\n",
       "      <td>7581</td>\n",
       "      <td>00:11:34.400</td>\n",
       "      <td>694</td>\n",
       "    </tr>\n",
       "    <tr>\n",
       "      <th>3</th>\n",
       "      <td>Shot</td>\n",
       "      <td>[103.0, 24.0]</td>\n",
       "      <td>18</td>\n",
       "      <td>55</td>\n",
       "      <td>718</td>\n",
       "      <td>Croatia</td>\n",
       "      <td>7581</td>\n",
       "      <td>00:18:55.480</td>\n",
       "      <td>1135</td>\n",
       "    </tr>\n",
       "    <tr>\n",
       "      <th>4</th>\n",
       "      <td>Shot</td>\n",
       "      <td>[96.0, 37.0]</td>\n",
       "      <td>22</td>\n",
       "      <td>6</td>\n",
       "      <td>801</td>\n",
       "      <td>Denmark</td>\n",
       "      <td>7581</td>\n",
       "      <td>00:22:06.080</td>\n",
       "      <td>1326</td>\n",
       "    </tr>\n",
       "  </tbody>\n",
       "</table>\n",
       "</div>"
      ],
      "text/plain": [
       "  type.name       location  minute  second  index possession_team.name  \\\n",
       "0      Shot  [115.0, 34.0]       0      57     38              Denmark   \n",
       "1      Shot  [112.0, 36.0]       3      39    122              Croatia   \n",
       "2      Shot  [101.0, 55.0]      11      34    331              Croatia   \n",
       "3      Shot  [103.0, 24.0]      18      55    718              Croatia   \n",
       "4      Shot   [96.0, 37.0]      22       6    801              Denmark   \n",
       "\n",
       "   match_id     timestamp  total_time  \n",
       "0      7581  00:00:57.320          57  \n",
       "1      7581  00:03:39.880         219  \n",
       "2      7581  00:11:34.400         694  \n",
       "3      7581  00:18:55.480        1135  \n",
       "4      7581  00:22:06.080        1326  "
      ]
     },
     "execution_count": 27,
     "metadata": {},
     "output_type": "execute_result"
    }
   ],
   "source": [
    "sh_df.head()"
   ]
  },
  {
   "cell_type": "code",
   "execution_count": 28,
   "metadata": {},
   "outputs": [
    {
     "data": {
      "text/html": [
       "<div>\n",
       "<style scoped>\n",
       "    .dataframe tbody tr th:only-of-type {\n",
       "        vertical-align: middle;\n",
       "    }\n",
       "\n",
       "    .dataframe tbody tr th {\n",
       "        vertical-align: top;\n",
       "    }\n",
       "\n",
       "    .dataframe thead th {\n",
       "        text-align: right;\n",
       "    }\n",
       "</style>\n",
       "<table border=\"1\" class=\"dataframe\">\n",
       "  <thead>\n",
       "    <tr style=\"text-align: right;\">\n",
       "      <th></th>\n",
       "      <th>type.name</th>\n",
       "      <th>location</th>\n",
       "      <th>minute</th>\n",
       "      <th>second</th>\n",
       "      <th>index</th>\n",
       "      <th>possession_team.name</th>\n",
       "      <th>match_id</th>\n",
       "      <th>timestamp</th>\n",
       "      <th>total_time</th>\n",
       "    </tr>\n",
       "  </thead>\n",
       "  <tbody>\n",
       "    <tr>\n",
       "      <th>0</th>\n",
       "      <td>Shot</td>\n",
       "      <td>[115.0, 34.0]</td>\n",
       "      <td>0</td>\n",
       "      <td>57</td>\n",
       "      <td>38</td>\n",
       "      <td>Denmark</td>\n",
       "      <td>7581</td>\n",
       "      <td>00:00:57.320</td>\n",
       "      <td>57</td>\n",
       "    </tr>\n",
       "    <tr>\n",
       "      <th>1</th>\n",
       "      <td>Shot</td>\n",
       "      <td>[112.0, 36.0]</td>\n",
       "      <td>3</td>\n",
       "      <td>39</td>\n",
       "      <td>122</td>\n",
       "      <td>Croatia</td>\n",
       "      <td>7581</td>\n",
       "      <td>00:03:39.880</td>\n",
       "      <td>219</td>\n",
       "    </tr>\n",
       "    <tr>\n",
       "      <th>2</th>\n",
       "      <td>Shot</td>\n",
       "      <td>[101.0, 55.0]</td>\n",
       "      <td>11</td>\n",
       "      <td>34</td>\n",
       "      <td>331</td>\n",
       "      <td>Croatia</td>\n",
       "      <td>7581</td>\n",
       "      <td>00:11:34.400</td>\n",
       "      <td>694</td>\n",
       "    </tr>\n",
       "    <tr>\n",
       "      <th>3</th>\n",
       "      <td>Shot</td>\n",
       "      <td>[103.0, 24.0]</td>\n",
       "      <td>18</td>\n",
       "      <td>55</td>\n",
       "      <td>718</td>\n",
       "      <td>Croatia</td>\n",
       "      <td>7581</td>\n",
       "      <td>00:18:55.480</td>\n",
       "      <td>1135</td>\n",
       "    </tr>\n",
       "    <tr>\n",
       "      <th>4</th>\n",
       "      <td>Shot</td>\n",
       "      <td>[96.0, 37.0]</td>\n",
       "      <td>22</td>\n",
       "      <td>6</td>\n",
       "      <td>801</td>\n",
       "      <td>Denmark</td>\n",
       "      <td>7581</td>\n",
       "      <td>00:22:06.080</td>\n",
       "      <td>1326</td>\n",
       "    </tr>\n",
       "    <tr>\n",
       "      <th>...</th>\n",
       "      <td>...</td>\n",
       "      <td>...</td>\n",
       "      <td>...</td>\n",
       "      <td>...</td>\n",
       "      <td>...</td>\n",
       "      <td>...</td>\n",
       "      <td>...</td>\n",
       "      <td>...</td>\n",
       "      <td>...</td>\n",
       "    </tr>\n",
       "    <tr>\n",
       "      <th>1701</th>\n",
       "      <td>Shot</td>\n",
       "      <td>[110.0, 45.0]</td>\n",
       "      <td>82</td>\n",
       "      <td>30</td>\n",
       "      <td>3070</td>\n",
       "      <td>Sweden</td>\n",
       "      <td>7551</td>\n",
       "      <td>00:37:30.480</td>\n",
       "      <td>4950</td>\n",
       "    </tr>\n",
       "    <tr>\n",
       "      <th>1702</th>\n",
       "      <td>Shot</td>\n",
       "      <td>[111.0, 40.0]</td>\n",
       "      <td>87</td>\n",
       "      <td>15</td>\n",
       "      <td>3232</td>\n",
       "      <td>Germany</td>\n",
       "      <td>7551</td>\n",
       "      <td>00:42:15.400</td>\n",
       "      <td>5235</td>\n",
       "    </tr>\n",
       "    <tr>\n",
       "      <th>1703</th>\n",
       "      <td>Shot</td>\n",
       "      <td>[101.0, 46.0]</td>\n",
       "      <td>91</td>\n",
       "      <td>22</td>\n",
       "      <td>3364</td>\n",
       "      <td>Germany</td>\n",
       "      <td>7551</td>\n",
       "      <td>00:46:22.360</td>\n",
       "      <td>5482</td>\n",
       "    </tr>\n",
       "    <tr>\n",
       "      <th>1704</th>\n",
       "      <td>Shot</td>\n",
       "      <td>[107.0, 59.0]</td>\n",
       "      <td>93</td>\n",
       "      <td>42</td>\n",
       "      <td>3419</td>\n",
       "      <td>Sweden</td>\n",
       "      <td>7551</td>\n",
       "      <td>00:48:42.440</td>\n",
       "      <td>5622</td>\n",
       "    </tr>\n",
       "    <tr>\n",
       "      <th>1705</th>\n",
       "      <td>Shot</td>\n",
       "      <td>[111.0, 20.0]</td>\n",
       "      <td>94</td>\n",
       "      <td>42</td>\n",
       "      <td>3441</td>\n",
       "      <td>Germany</td>\n",
       "      <td>7551</td>\n",
       "      <td>00:49:42.640</td>\n",
       "      <td>5682</td>\n",
       "    </tr>\n",
       "  </tbody>\n",
       "</table>\n",
       "<p>1706 rows × 9 columns</p>\n",
       "</div>"
      ],
      "text/plain": [
       "     type.name       location  minute  second  index possession_team.name  \\\n",
       "0         Shot  [115.0, 34.0]       0      57     38              Denmark   \n",
       "1         Shot  [112.0, 36.0]       3      39    122              Croatia   \n",
       "2         Shot  [101.0, 55.0]      11      34    331              Croatia   \n",
       "3         Shot  [103.0, 24.0]      18      55    718              Croatia   \n",
       "4         Shot   [96.0, 37.0]      22       6    801              Denmark   \n",
       "...        ...            ...     ...     ...    ...                  ...   \n",
       "1701      Shot  [110.0, 45.0]      82      30   3070               Sweden   \n",
       "1702      Shot  [111.0, 40.0]      87      15   3232              Germany   \n",
       "1703      Shot  [101.0, 46.0]      91      22   3364              Germany   \n",
       "1704      Shot  [107.0, 59.0]      93      42   3419               Sweden   \n",
       "1705      Shot  [111.0, 20.0]      94      42   3441              Germany   \n",
       "\n",
       "      match_id     timestamp  total_time  \n",
       "0         7581  00:00:57.320          57  \n",
       "1         7581  00:03:39.880         219  \n",
       "2         7581  00:11:34.400         694  \n",
       "3         7581  00:18:55.480        1135  \n",
       "4         7581  00:22:06.080        1326  \n",
       "...        ...           ...         ...  \n",
       "1701      7551  00:37:30.480        4950  \n",
       "1702      7551  00:42:15.400        5235  \n",
       "1703      7551  00:46:22.360        5482  \n",
       "1704      7551  00:48:42.440        5622  \n",
       "1705      7551  00:49:42.640        5682  \n",
       "\n",
       "[1706 rows x 9 columns]"
      ]
     },
     "execution_count": 28,
     "metadata": {},
     "output_type": "execute_result"
    }
   ],
   "source": [
    "sh_df[sh_df[\"type.name\"]==(\"Shot\")]"
   ]
  },
  {
   "cell_type": "code",
   "execution_count": 29,
   "metadata": {},
   "outputs": [
    {
     "ename": "KeyboardInterrupt",
     "evalue": "",
     "output_type": "error",
     "traceback": [
      "\u001b[0;31m---------------------------------------------------------------------------\u001b[0m",
      "\u001b[0;31mKeyboardInterrupt\u001b[0m                         Traceback (most recent call last)",
      "Cell \u001b[0;32mIn[29], line 6\u001b[0m\n\u001b[1;32m      4\u001b[0m ma_id\u001b[38;5;241m=\u001b[39msh_df[\u001b[38;5;124m\"\u001b[39m\u001b[38;5;124mmatch_id\u001b[39m\u001b[38;5;124m\"\u001b[39m][i]\n\u001b[1;32m      5\u001b[0m temp_df\u001b[38;5;241m=\u001b[39mdf[(df[\u001b[38;5;124m\"\u001b[39m\u001b[38;5;124mmatch_id\u001b[39m\u001b[38;5;124m\"\u001b[39m]\u001b[38;5;241m==\u001b[39mma_id) \u001b[38;5;241m&\u001b[39m (df[\u001b[38;5;124m\"\u001b[39m\u001b[38;5;124mtype.name\u001b[39m\u001b[38;5;124m\"\u001b[39m]\u001b[38;5;241m==\u001b[39m\u001b[38;5;124m\"\u001b[39m\u001b[38;5;124mPass\u001b[39m\u001b[38;5;124m\"\u001b[39m) \u001b[38;5;241m&\u001b[39m (df[\u001b[38;5;124m\"\u001b[39m\u001b[38;5;124mtotal_time\u001b[39m\u001b[38;5;124m\"\u001b[39m]\u001b[38;5;241m<\u001b[39m\u001b[38;5;241m=\u001b[39mtime) \u001b[38;5;241m&\u001b[39m (df[\u001b[38;5;124m\"\u001b[39m\u001b[38;5;124mtotal_time\u001b[39m\u001b[38;5;124m\"\u001b[39m]\u001b[38;5;241m>\u001b[39m\u001b[38;5;241m=\u001b[39mtime\u001b[38;5;241m-\u001b[39m\u001b[38;5;241m15\u001b[39m)]\n\u001b[0;32m----> 6\u001b[0m p_df\u001b[38;5;241m=\u001b[39m\u001b[43mpd\u001b[49m\u001b[38;5;241;43m.\u001b[39;49m\u001b[43mconcat\u001b[49m\u001b[43m(\u001b[49m\u001b[43m[\u001b[49m\u001b[43mp_df\u001b[49m\u001b[43m,\u001b[49m\u001b[43mtemp_df\u001b[49m\u001b[43m]\u001b[49m\u001b[43m,\u001b[49m\u001b[43maxis\u001b[49m\u001b[38;5;241;43m=\u001b[39;49m\u001b[38;5;241;43m0\u001b[39;49m\u001b[43m,\u001b[49m\u001b[43m)\u001b[49m\n",
      "File \u001b[0;32m~/Documents/stablenv/lib/python3.10/site-packages/pandas/core/reshape/concat.py:393\u001b[0m, in \u001b[0;36mconcat\u001b[0;34m(objs, axis, join, ignore_index, keys, levels, names, verify_integrity, sort, copy)\u001b[0m\n\u001b[1;32m    378\u001b[0m     copy \u001b[38;5;241m=\u001b[39m \u001b[38;5;28;01mFalse\u001b[39;00m\n\u001b[1;32m    380\u001b[0m op \u001b[38;5;241m=\u001b[39m _Concatenator(\n\u001b[1;32m    381\u001b[0m     objs,\n\u001b[1;32m    382\u001b[0m     axis\u001b[38;5;241m=\u001b[39maxis,\n\u001b[0;32m   (...)\u001b[0m\n\u001b[1;32m    390\u001b[0m     sort\u001b[38;5;241m=\u001b[39msort,\n\u001b[1;32m    391\u001b[0m )\n\u001b[0;32m--> 393\u001b[0m \u001b[38;5;28;01mreturn\u001b[39;00m \u001b[43mop\u001b[49m\u001b[38;5;241;43m.\u001b[39;49m\u001b[43mget_result\u001b[49m\u001b[43m(\u001b[49m\u001b[43m)\u001b[49m\n",
      "File \u001b[0;32m~/Documents/stablenv/lib/python3.10/site-packages/pandas/core/reshape/concat.py:680\u001b[0m, in \u001b[0;36m_Concatenator.get_result\u001b[0;34m(self)\u001b[0m\n\u001b[1;32m    676\u001b[0m             indexers[ax] \u001b[38;5;241m=\u001b[39m obj_labels\u001b[38;5;241m.\u001b[39mget_indexer(new_labels)\n\u001b[1;32m    678\u001b[0m     mgrs_indexers\u001b[38;5;241m.\u001b[39mappend((obj\u001b[38;5;241m.\u001b[39m_mgr, indexers))\n\u001b[0;32m--> 680\u001b[0m new_data \u001b[38;5;241m=\u001b[39m \u001b[43mconcatenate_managers\u001b[49m\u001b[43m(\u001b[49m\n\u001b[1;32m    681\u001b[0m \u001b[43m    \u001b[49m\u001b[43mmgrs_indexers\u001b[49m\u001b[43m,\u001b[49m\u001b[43m \u001b[49m\u001b[38;5;28;43mself\u001b[39;49m\u001b[38;5;241;43m.\u001b[39;49m\u001b[43mnew_axes\u001b[49m\u001b[43m,\u001b[49m\u001b[43m \u001b[49m\u001b[43mconcat_axis\u001b[49m\u001b[38;5;241;43m=\u001b[39;49m\u001b[38;5;28;43mself\u001b[39;49m\u001b[38;5;241;43m.\u001b[39;49m\u001b[43mbm_axis\u001b[49m\u001b[43m,\u001b[49m\u001b[43m \u001b[49m\u001b[43mcopy\u001b[49m\u001b[38;5;241;43m=\u001b[39;49m\u001b[38;5;28;43mself\u001b[39;49m\u001b[38;5;241;43m.\u001b[39;49m\u001b[43mcopy\u001b[49m\n\u001b[1;32m    682\u001b[0m \u001b[43m\u001b[49m\u001b[43m)\u001b[49m\n\u001b[1;32m    683\u001b[0m \u001b[38;5;28;01mif\u001b[39;00m \u001b[38;5;129;01mnot\u001b[39;00m \u001b[38;5;28mself\u001b[39m\u001b[38;5;241m.\u001b[39mcopy \u001b[38;5;129;01mand\u001b[39;00m \u001b[38;5;129;01mnot\u001b[39;00m using_copy_on_write():\n\u001b[1;32m    684\u001b[0m     new_data\u001b[38;5;241m.\u001b[39m_consolidate_inplace()\n",
      "File \u001b[0;32m~/Documents/stablenv/lib/python3.10/site-packages/pandas/core/internals/concat.py:189\u001b[0m, in \u001b[0;36mconcatenate_managers\u001b[0;34m(mgrs_indexers, axes, concat_axis, copy)\u001b[0m\n\u001b[1;32m    187\u001b[0m     fastpath \u001b[38;5;241m=\u001b[39m blk\u001b[38;5;241m.\u001b[39mvalues\u001b[38;5;241m.\u001b[39mdtype \u001b[38;5;241m==\u001b[39m values\u001b[38;5;241m.\u001b[39mdtype\n\u001b[1;32m    188\u001b[0m \u001b[38;5;28;01melse\u001b[39;00m:\n\u001b[0;32m--> 189\u001b[0m     values \u001b[38;5;241m=\u001b[39m \u001b[43m_concatenate_join_units\u001b[49m\u001b[43m(\u001b[49m\u001b[43mjoin_units\u001b[49m\u001b[43m,\u001b[49m\u001b[43m \u001b[49m\u001b[43mcopy\u001b[49m\u001b[38;5;241;43m=\u001b[39;49m\u001b[43mcopy\u001b[49m\u001b[43m)\u001b[49m\n\u001b[1;32m    190\u001b[0m     fastpath \u001b[38;5;241m=\u001b[39m \u001b[38;5;28;01mFalse\u001b[39;00m\n\u001b[1;32m    192\u001b[0m \u001b[38;5;28;01mif\u001b[39;00m fastpath:\n",
      "File \u001b[0;32m~/Documents/stablenv/lib/python3.10/site-packages/pandas/core/internals/concat.py:466\u001b[0m, in \u001b[0;36m_concatenate_join_units\u001b[0;34m(join_units, copy)\u001b[0m\n\u001b[1;32m    463\u001b[0m has_none_blocks \u001b[38;5;241m=\u001b[39m \u001b[38;5;28many\u001b[39m(unit\u001b[38;5;241m.\u001b[39mblock\u001b[38;5;241m.\u001b[39mdtype\u001b[38;5;241m.\u001b[39mkind \u001b[38;5;241m==\u001b[39m \u001b[38;5;124m\"\u001b[39m\u001b[38;5;124mV\u001b[39m\u001b[38;5;124m\"\u001b[39m \u001b[38;5;28;01mfor\u001b[39;00m unit \u001b[38;5;129;01min\u001b[39;00m join_units)\n\u001b[1;32m    464\u001b[0m upcasted_na \u001b[38;5;241m=\u001b[39m _dtype_to_na_value(empty_dtype, has_none_blocks)\n\u001b[0;32m--> 466\u001b[0m to_concat \u001b[38;5;241m=\u001b[39m [\n\u001b[1;32m    467\u001b[0m     ju\u001b[38;5;241m.\u001b[39mget_reindexed_values(empty_dtype\u001b[38;5;241m=\u001b[39mempty_dtype, upcasted_na\u001b[38;5;241m=\u001b[39mupcasted_na)\n\u001b[1;32m    468\u001b[0m     \u001b[38;5;28;01mfor\u001b[39;00m ju \u001b[38;5;129;01min\u001b[39;00m join_units\n\u001b[1;32m    469\u001b[0m ]\n\u001b[1;32m    471\u001b[0m \u001b[38;5;28;01mif\u001b[39;00m \u001b[38;5;28many\u001b[39m(is_1d_only_ea_dtype(t\u001b[38;5;241m.\u001b[39mdtype) \u001b[38;5;28;01mfor\u001b[39;00m t \u001b[38;5;129;01min\u001b[39;00m to_concat):\n\u001b[1;32m    472\u001b[0m     \u001b[38;5;66;03m# TODO(EA2D): special case not needed if all EAs used HybridBlocks\u001b[39;00m\n\u001b[1;32m    473\u001b[0m \n\u001b[1;32m    474\u001b[0m     \u001b[38;5;66;03m# error: No overload variant of \"__getitem__\" of \"ExtensionArray\" matches\u001b[39;00m\n\u001b[1;32m    475\u001b[0m     \u001b[38;5;66;03m# argument type \"Tuple[int, slice]\"\u001b[39;00m\n\u001b[1;32m    476\u001b[0m     to_concat \u001b[38;5;241m=\u001b[39m [\n\u001b[1;32m    477\u001b[0m         t\n\u001b[1;32m    478\u001b[0m         \u001b[38;5;28;01mif\u001b[39;00m is_1d_only_ea_dtype(t\u001b[38;5;241m.\u001b[39mdtype)\n\u001b[1;32m    479\u001b[0m         \u001b[38;5;28;01melse\u001b[39;00m t[\u001b[38;5;241m0\u001b[39m, :]  \u001b[38;5;66;03m# type: ignore[call-overload]\u001b[39;00m\n\u001b[1;32m    480\u001b[0m         \u001b[38;5;28;01mfor\u001b[39;00m t \u001b[38;5;129;01min\u001b[39;00m to_concat\n\u001b[1;32m    481\u001b[0m     ]\n",
      "File \u001b[0;32m~/Documents/stablenv/lib/python3.10/site-packages/pandas/core/internals/concat.py:467\u001b[0m, in \u001b[0;36m<listcomp>\u001b[0;34m(.0)\u001b[0m\n\u001b[1;32m    463\u001b[0m has_none_blocks \u001b[38;5;241m=\u001b[39m \u001b[38;5;28many\u001b[39m(unit\u001b[38;5;241m.\u001b[39mblock\u001b[38;5;241m.\u001b[39mdtype\u001b[38;5;241m.\u001b[39mkind \u001b[38;5;241m==\u001b[39m \u001b[38;5;124m\"\u001b[39m\u001b[38;5;124mV\u001b[39m\u001b[38;5;124m\"\u001b[39m \u001b[38;5;28;01mfor\u001b[39;00m unit \u001b[38;5;129;01min\u001b[39;00m join_units)\n\u001b[1;32m    464\u001b[0m upcasted_na \u001b[38;5;241m=\u001b[39m _dtype_to_na_value(empty_dtype, has_none_blocks)\n\u001b[1;32m    466\u001b[0m to_concat \u001b[38;5;241m=\u001b[39m [\n\u001b[0;32m--> 467\u001b[0m     \u001b[43mju\u001b[49m\u001b[38;5;241;43m.\u001b[39;49m\u001b[43mget_reindexed_values\u001b[49m\u001b[43m(\u001b[49m\u001b[43mempty_dtype\u001b[49m\u001b[38;5;241;43m=\u001b[39;49m\u001b[43mempty_dtype\u001b[49m\u001b[43m,\u001b[49m\u001b[43m \u001b[49m\u001b[43mupcasted_na\u001b[49m\u001b[38;5;241;43m=\u001b[39;49m\u001b[43mupcasted_na\u001b[49m\u001b[43m)\u001b[49m\n\u001b[1;32m    468\u001b[0m     \u001b[38;5;28;01mfor\u001b[39;00m ju \u001b[38;5;129;01min\u001b[39;00m join_units\n\u001b[1;32m    469\u001b[0m ]\n\u001b[1;32m    471\u001b[0m \u001b[38;5;28;01mif\u001b[39;00m \u001b[38;5;28many\u001b[39m(is_1d_only_ea_dtype(t\u001b[38;5;241m.\u001b[39mdtype) \u001b[38;5;28;01mfor\u001b[39;00m t \u001b[38;5;129;01min\u001b[39;00m to_concat):\n\u001b[1;32m    472\u001b[0m     \u001b[38;5;66;03m# TODO(EA2D): special case not needed if all EAs used HybridBlocks\u001b[39;00m\n\u001b[1;32m    473\u001b[0m \n\u001b[1;32m    474\u001b[0m     \u001b[38;5;66;03m# error: No overload variant of \"__getitem__\" of \"ExtensionArray\" matches\u001b[39;00m\n\u001b[1;32m    475\u001b[0m     \u001b[38;5;66;03m# argument type \"Tuple[int, slice]\"\u001b[39;00m\n\u001b[1;32m    476\u001b[0m     to_concat \u001b[38;5;241m=\u001b[39m [\n\u001b[1;32m    477\u001b[0m         t\n\u001b[1;32m    478\u001b[0m         \u001b[38;5;28;01mif\u001b[39;00m is_1d_only_ea_dtype(t\u001b[38;5;241m.\u001b[39mdtype)\n\u001b[1;32m    479\u001b[0m         \u001b[38;5;28;01melse\u001b[39;00m t[\u001b[38;5;241m0\u001b[39m, :]  \u001b[38;5;66;03m# type: ignore[call-overload]\u001b[39;00m\n\u001b[1;32m    480\u001b[0m         \u001b[38;5;28;01mfor\u001b[39;00m t \u001b[38;5;129;01min\u001b[39;00m to_concat\n\u001b[1;32m    481\u001b[0m     ]\n",
      "File \u001b[0;32m~/Documents/stablenv/lib/python3.10/site-packages/pandas/core/internals/concat.py:440\u001b[0m, in \u001b[0;36mJoinUnit.get_reindexed_values\u001b[0;34m(self, empty_dtype, upcasted_na)\u001b[0m\n\u001b[1;32m    437\u001b[0m \u001b[38;5;28;01melse\u001b[39;00m:\n\u001b[1;32m    438\u001b[0m     fill_value \u001b[38;5;241m=\u001b[39m upcasted_na\n\u001b[0;32m--> 440\u001b[0m     \u001b[38;5;28;01mif\u001b[39;00m \u001b[38;5;28;43mself\u001b[39;49m\u001b[38;5;241;43m.\u001b[39;49m\u001b[43m_is_valid_na_for\u001b[49m\u001b[43m(\u001b[49m\u001b[43mempty_dtype\u001b[49m\u001b[43m)\u001b[49m:\n\u001b[1;32m    441\u001b[0m         \u001b[38;5;66;03m# note: always holds when self.block.dtype.kind == \"V\"\u001b[39;00m\n\u001b[1;32m    442\u001b[0m         blk_dtype \u001b[38;5;241m=\u001b[39m \u001b[38;5;28mself\u001b[39m\u001b[38;5;241m.\u001b[39mblock\u001b[38;5;241m.\u001b[39mdtype\n\u001b[1;32m    444\u001b[0m         \u001b[38;5;28;01mif\u001b[39;00m blk_dtype \u001b[38;5;241m==\u001b[39m np\u001b[38;5;241m.\u001b[39mdtype(\u001b[38;5;124m\"\u001b[39m\u001b[38;5;124mobject\u001b[39m\u001b[38;5;124m\"\u001b[39m):\n\u001b[1;32m    445\u001b[0m             \u001b[38;5;66;03m# we want to avoid filling with np.nan if we are\u001b[39;00m\n\u001b[1;32m    446\u001b[0m             \u001b[38;5;66;03m# using None; we already know that we are all\u001b[39;00m\n\u001b[1;32m    447\u001b[0m             \u001b[38;5;66;03m# nulls\u001b[39;00m\n",
      "File \u001b[0;32m~/Documents/stablenv/lib/python3.10/site-packages/pandas/core/internals/concat.py:371\u001b[0m, in \u001b[0;36mJoinUnit._is_valid_na_for\u001b[0;34m(self, dtype)\u001b[0m\n\u001b[1;32m    369\u001b[0m \u001b[38;5;28;01mif\u001b[39;00m blk\u001b[38;5;241m.\u001b[39mdtype \u001b[38;5;241m==\u001b[39m \u001b[38;5;28mobject\u001b[39m:\n\u001b[1;32m    370\u001b[0m     values \u001b[38;5;241m=\u001b[39m blk\u001b[38;5;241m.\u001b[39mvalues\n\u001b[0;32m--> 371\u001b[0m     \u001b[38;5;28;01mreturn\u001b[39;00m \u001b[38;5;28;43mall\u001b[39;49m\u001b[43m(\u001b[49m\u001b[43mis_valid_na_for_dtype\u001b[49m\u001b[43m(\u001b[49m\u001b[43mx\u001b[49m\u001b[43m,\u001b[49m\u001b[43m \u001b[49m\u001b[43mdtype\u001b[49m\u001b[43m)\u001b[49m\u001b[43m \u001b[49m\u001b[38;5;28;43;01mfor\u001b[39;49;00m\u001b[43m \u001b[49m\u001b[43mx\u001b[49m\u001b[43m \u001b[49m\u001b[38;5;129;43;01min\u001b[39;49;00m\u001b[43m \u001b[49m\u001b[43mvalues\u001b[49m\u001b[38;5;241;43m.\u001b[39;49m\u001b[43mravel\u001b[49m\u001b[43m(\u001b[49m\u001b[43morder\u001b[49m\u001b[38;5;241;43m=\u001b[39;49m\u001b[38;5;124;43m\"\u001b[39;49m\u001b[38;5;124;43mK\u001b[39;49m\u001b[38;5;124;43m\"\u001b[39;49m\u001b[43m)\u001b[49m\u001b[43m)\u001b[49m\n\u001b[1;32m    373\u001b[0m na_value \u001b[38;5;241m=\u001b[39m blk\u001b[38;5;241m.\u001b[39mfill_value\n\u001b[1;32m    374\u001b[0m \u001b[38;5;28;01mif\u001b[39;00m na_value \u001b[38;5;129;01mis\u001b[39;00m NaT \u001b[38;5;129;01mand\u001b[39;00m blk\u001b[38;5;241m.\u001b[39mdtype \u001b[38;5;241m!=\u001b[39m dtype:\n\u001b[1;32m    375\u001b[0m     \u001b[38;5;66;03m# e.g. we are dt64 and other is td64\u001b[39;00m\n\u001b[1;32m    376\u001b[0m     \u001b[38;5;66;03m# fill_values match but we should not cast blk.values to dtype\u001b[39;00m\n\u001b[1;32m    377\u001b[0m     \u001b[38;5;66;03m# TODO: this will need updating if we ever have non-nano dt64/td64\u001b[39;00m\n",
      "File \u001b[0;32m~/Documents/stablenv/lib/python3.10/site-packages/pandas/core/internals/concat.py:371\u001b[0m, in \u001b[0;36m<genexpr>\u001b[0;34m(.0)\u001b[0m\n\u001b[1;32m    369\u001b[0m \u001b[38;5;28;01mif\u001b[39;00m blk\u001b[38;5;241m.\u001b[39mdtype \u001b[38;5;241m==\u001b[39m \u001b[38;5;28mobject\u001b[39m:\n\u001b[1;32m    370\u001b[0m     values \u001b[38;5;241m=\u001b[39m blk\u001b[38;5;241m.\u001b[39mvalues\n\u001b[0;32m--> 371\u001b[0m     \u001b[38;5;28;01mreturn\u001b[39;00m \u001b[38;5;28mall\u001b[39m(\u001b[43mis_valid_na_for_dtype\u001b[49m\u001b[43m(\u001b[49m\u001b[43mx\u001b[49m\u001b[43m,\u001b[49m\u001b[43m \u001b[49m\u001b[43mdtype\u001b[49m\u001b[43m)\u001b[49m \u001b[38;5;28;01mfor\u001b[39;00m x \u001b[38;5;129;01min\u001b[39;00m values\u001b[38;5;241m.\u001b[39mravel(order\u001b[38;5;241m=\u001b[39m\u001b[38;5;124m\"\u001b[39m\u001b[38;5;124mK\u001b[39m\u001b[38;5;124m\"\u001b[39m))\n\u001b[1;32m    373\u001b[0m na_value \u001b[38;5;241m=\u001b[39m blk\u001b[38;5;241m.\u001b[39mfill_value\n\u001b[1;32m    374\u001b[0m \u001b[38;5;28;01mif\u001b[39;00m na_value \u001b[38;5;129;01mis\u001b[39;00m NaT \u001b[38;5;129;01mand\u001b[39;00m blk\u001b[38;5;241m.\u001b[39mdtype \u001b[38;5;241m!=\u001b[39m dtype:\n\u001b[1;32m    375\u001b[0m     \u001b[38;5;66;03m# e.g. we are dt64 and other is td64\u001b[39;00m\n\u001b[1;32m    376\u001b[0m     \u001b[38;5;66;03m# fill_values match but we should not cast blk.values to dtype\u001b[39;00m\n\u001b[1;32m    377\u001b[0m     \u001b[38;5;66;03m# TODO: this will need updating if we ever have non-nano dt64/td64\u001b[39;00m\n",
      "File \u001b[0;32m~/Documents/stablenv/lib/python3.10/site-packages/pandas/core/dtypes/missing.py:704\u001b[0m, in \u001b[0;36mis_valid_na_for_dtype\u001b[0;34m(obj, dtype)\u001b[0m\n\u001b[1;32m    691\u001b[0m \u001b[38;5;28;01mdef\u001b[39;00m \u001b[38;5;21mis_valid_na_for_dtype\u001b[39m(obj, dtype: DtypeObj) \u001b[38;5;241m-\u001b[39m\u001b[38;5;241m>\u001b[39m \u001b[38;5;28mbool\u001b[39m:\n\u001b[1;32m    692\u001b[0m \u001b[38;5;250m    \u001b[39m\u001b[38;5;124;03m\"\"\"\u001b[39;00m\n\u001b[1;32m    693\u001b[0m \u001b[38;5;124;03m    isna check that excludes incompatible dtypes\u001b[39;00m\n\u001b[1;32m    694\u001b[0m \n\u001b[0;32m   (...)\u001b[0m\n\u001b[1;32m    702\u001b[0m \u001b[38;5;124;03m    bool\u001b[39;00m\n\u001b[1;32m    703\u001b[0m \u001b[38;5;124;03m    \"\"\"\u001b[39;00m\n\u001b[0;32m--> 704\u001b[0m     \u001b[38;5;28;01mif\u001b[39;00m \u001b[38;5;129;01mnot\u001b[39;00m \u001b[43mlib\u001b[49m\u001b[38;5;241;43m.\u001b[39;49m\u001b[43mis_scalar\u001b[49m\u001b[43m(\u001b[49m\u001b[43mobj\u001b[49m\u001b[43m)\u001b[49m \u001b[38;5;129;01mor\u001b[39;00m \u001b[38;5;129;01mnot\u001b[39;00m isna(obj):\n\u001b[1;32m    705\u001b[0m         \u001b[38;5;28;01mreturn\u001b[39;00m \u001b[38;5;28;01mFalse\u001b[39;00m\n\u001b[1;32m    706\u001b[0m     \u001b[38;5;28;01melif\u001b[39;00m dtype\u001b[38;5;241m.\u001b[39mkind \u001b[38;5;241m==\u001b[39m \u001b[38;5;124m\"\u001b[39m\u001b[38;5;124mM\u001b[39m\u001b[38;5;124m\"\u001b[39m:\n",
      "\u001b[0;31mKeyboardInterrupt\u001b[0m: "
     ]
    }
   ],
   "source": [
    "p_df=pd.DataFrame()\n",
    "for i in range(0,sh_df.shape[0]):\n",
    "    time=sh_df[\"total_time\"][i]\n",
    "    ma_id=sh_df[\"match_id\"][i]\n",
    "    temp_df=df[(df[\"match_id\"]==ma_id) & (df[\"type.name\"]==\"Pass\") & (df[\"total_time\"]<=time) & (df[\"total_time\"]>=time-15)]\n",
    "    p_df=pd.concat([p_df,temp_df],axis=0,)\n",
    "    \n",
    "        \n",
    "        \n",
    "        "
   ]
  },
  {
   "cell_type": "code",
   "execution_count": null,
   "metadata": {},
   "outputs": [],
   "source": [
    "p_df[\"player.name\"].value_counts().head(9)"
   ]
  },
  {
   "cell_type": "code",
   "execution_count": null,
   "metadata": {},
   "outputs": [],
   "source": [
    "cor=p_df[p_df['pass.type.name']=='Corner'].index"
   ]
  },
  {
   "cell_type": "code",
   "execution_count": null,
   "metadata": {},
   "outputs": [],
   "source": [
    "p_df=p_df.drop(cor)"
   ]
  },
  {
   "cell_type": "code",
   "execution_count": null,
   "metadata": {},
   "outputs": [],
   "source": [
    "pdf=p_df.copy()"
   ]
  },
  {
   "cell_type": "code",
   "execution_count": null,
   "metadata": {},
   "outputs": [],
   "source": [
    "def nc(x):\n",
    "    if x==\"Neymar da Silva Santos Junior\":\n",
    "        return \"Neymar Jr\"\n",
    "    elif x==\"Francisco Román Alarcón Suárez\":\n",
    "        return \"Isco\"\n",
    "    elif x==\"Philippe Coutinho Correia\":\n",
    "        return \"Philippe Coutinho\"\n",
    "    else:\n",
    "        return x\n",
    "\n",
    "\n",
    "pdf[\"player.name\"]=pdf[\"player.name\"].apply(lambda x:nc(x))\n"
   ]
  },
  {
   "cell_type": "code",
   "execution_count": 308,
   "metadata": {},
   "outputs": [],
   "source": [
    "names=pdf[\"player.name\"].value_counts().head(9).index.to_list()\n"
   ]
  },
  {
   "cell_type": "code",
   "execution_count": 309,
   "metadata": {},
   "outputs": [
    {
     "data": {
      "text/plain": [
       "['Luka Modrić',\n",
       " 'Neymar Jr',\n",
       " 'Toni Kroos',\n",
       " 'Philippe Coutinho',\n",
       " 'Kevin De Bruyne',\n",
       " 'Isco',\n",
       " 'Kieran Trippier',\n",
       " 'Joshua Kimmich',\n",
       " 'Ivan Rakitić']"
      ]
     },
     "execution_count": 309,
     "metadata": {},
     "output_type": "execute_result"
    }
   ],
   "source": [
    "names"
   ]
  },
  {
   "cell_type": "code",
   "execution_count": 310,
   "metadata": {},
   "outputs": [],
   "source": [
    "names=np.array(names)"
   ]
  },
  {
   "cell_type": "code",
   "execution_count": 311,
   "metadata": {},
   "outputs": [],
   "source": [
    "names=names.reshape(3,3)"
   ]
  },
  {
   "cell_type": "code",
   "execution_count": 312,
   "metadata": {},
   "outputs": [],
   "source": [
    "passes=p_df[\"player.name\"].value_counts().head(9).to_list()"
   ]
  },
  {
   "cell_type": "code",
   "execution_count": 313,
   "metadata": {},
   "outputs": [
    {
     "data": {
      "text/plain": [
       "[58, 50, 46, 46, 45, 43, 39, 39, 38]"
      ]
     },
     "execution_count": 313,
     "metadata": {},
     "output_type": "execute_result"
    }
   ],
   "source": [
    "passes"
   ]
  },
  {
   "cell_type": "code",
   "execution_count": 33,
   "metadata": {},
   "outputs": [],
   "source": [
    "passes=np.array(passes)"
   ]
  },
  {
   "cell_type": "code",
   "execution_count": 34,
   "metadata": {},
   "outputs": [],
   "source": [
    "passes=passes.reshape(3,3)"
   ]
  },
  {
   "cell_type": "code",
   "execution_count": 30,
   "metadata": {},
   "outputs": [],
   "source": [
    "names = ['Luka Modrić',\n",
    " 'Neymar Jr',\n",
    " 'Toni Kroos',\n",
    " 'Philippe Coutinho',\n",
    " 'Kevin De Bruyne',\n",
    " 'Isco',\n",
    " 'Kieran Trippier',\n",
    " 'Joshua Kimmich',\n",
    " 'Ivan Rakitić']"
   ]
  },
  {
   "cell_type": "code",
   "execution_count": 31,
   "metadata": {},
   "outputs": [],
   "source": [
    "passes = [58, 50, 46, 46, 45, 43, 39, 39, 38]"
   ]
  },
  {
   "cell_type": "code",
   "execution_count": 35,
   "metadata": {},
   "outputs": [
    {
     "ename": "NameError",
     "evalue": "name 'p' is not defined",
     "output_type": "error",
     "traceback": [
      "\u001b[0;31m---------------------------------------------------------------------------\u001b[0m",
      "\u001b[0;31mNameError\u001b[0m                                 Traceback (most recent call last)",
      "Cell \u001b[0;32mIn[35], line 19\u001b[0m\n\u001b[1;32m     17\u001b[0m \u001b[38;5;28;01melse\u001b[39;00m:\n\u001b[1;32m     18\u001b[0m     fcc\u001b[38;5;241m=\u001b[39m\u001b[38;5;124m\"\u001b[39m\u001b[38;5;124mgrey\u001b[39m\u001b[38;5;124m\"\u001b[39m\n\u001b[0;32m---> 19\u001b[0m p1 \u001b[38;5;241m=\u001b[39m \u001b[43mp\u001b[49m\u001b[38;5;241m.\u001b[39mCircle((x, y), \u001b[38;5;241m0.04\u001b[39m, fc\u001b[38;5;241m=\u001b[39mfcc,edgecolor\u001b[38;5;241m=\u001b[39m\u001b[38;5;124m'\u001b[39m\u001b[38;5;124m#1A1D2C\u001b[39m\u001b[38;5;124m'\u001b[39m)\n\u001b[1;32m     20\u001b[0m x\u001b[38;5;241m=\u001b[39mx\u001b[38;5;241m+\u001b[39m\u001b[38;5;241m0.08\u001b[39m\n\u001b[1;32m     21\u001b[0m ax[a][b]\u001b[38;5;241m.\u001b[39madd_patch(p1)\n",
      "\u001b[0;31mNameError\u001b[0m: name 'p' is not defined"
     ]
    },
    {
     "data": {
      "image/png": "[encoded data removed]",
      "text/plain": [
       "<Figure size 2000x1600 with 9 Axes>"
      ]
     },
     "metadata": {},
     "output_type": "display_data"
    }
   ],
   "source": [
    "fig, ax = plt.subplots(nrows=3, ncols=3,figsize=(20,16))\n",
    "plt.tight_layout()\n",
    "fig.set_facecolor(\"#1A1D2C\")\n",
    "\n",
    "\n",
    "for a in range(0,3):\n",
    "    for b in range(0,3):\n",
    "        x=0.08\n",
    "        y=0.8\n",
    "        m=0\n",
    "        cols=1\n",
    "        count=0\n",
    "        for i in range(0,5):\n",
    "            for j in range(0,12):\n",
    "                if count<passes[a][b]:\n",
    "                    fcc=\"#CC4554\"\n",
    "                else:\n",
    "                    fcc=\"grey\"\n",
    "                p1 = p.Circle((x, y), 0.04, fc=fcc,edgecolor='#1A1D2C')\n",
    "                x=x+0.08\n",
    "                ax[a][b].add_patch(p1)\n",
    "                count=count+1\n",
    "                cols=cols+1\n",
    "                if (cols>12):\n",
    "                        cols=1\n",
    "                        x=0.08\n",
    "                        y=y-0.08\n",
    "\n",
    "        ax[a][b].axis('off')\n",
    "        plt.subplots_adjust(wspace=0.6)\n",
    "        \n",
    "        ax[a][b].text(1.07,0.60,passes[a][b],color=\"white\",fontsize=75,fontweight=\"bold\")\n",
    "        ax[a][b].text(1.07,0.50,\"passes\",color=\"#CC4554\",fontsize=30,fontweight=600)\n",
    "        ax[a][b].text(0.2,0.3,names[a][b],color=\"white\",fontsize=30)\n",
    "        \n",
    "plt.text(-2.4,3.45,\"PLAYERS WITH THE MOST PASSES - 15 seconds before a shot was taken\",color=\"white\",fontsize=25,fontweight=650)\n",
    "plt.text(-1.3,3.3,\"WORLD CUP 2018\",color=\"white\",fontsize=25,fontweight=650)\n",
    "plt.text(-3.4,3.6,\"^\",color=\"#1A1D2C\",fontsize=25,)\n",
    "\n",
    "fig.text(1,-0.01,\"Inspired by @petermckeever\",fontsize=13,color=\"white\")\n",
    "fig.text(1,0.02,\"Created by sai(@fcb_uchiha)\",fontsize=13,color=\"white\")\n",
    "\n",
    "\n",
    "plt.savefig(\"dotmatrix.jpg\",dpi=300,facecolor=\"#1A1D2C\", bbox_inches = \"tight\")\n"
   ]
  },
  {
   "cell_type": "code",
   "execution_count": 421,
   "metadata": {},
   "outputs": [
    {
     "data": {
      "text/plain": [
       "Recovery        440\n",
       "Free Kick       149\n",
       "Throw-in        125\n",
       "Interception     19\n",
       "Goal Kick        17\n",
       "Kick Off         12\n",
       "Name: pass.type.name, dtype: int64"
      ]
     },
     "execution_count": 421,
     "metadata": {},
     "output_type": "execute_result"
    }
   ],
   "source": [
    "p_df[\"pass.type.name\"].value_counts()"
   ]
  },
  {
   "cell_type": "code",
   "execution_count": 422,
   "metadata": {},
   "outputs": [],
   "source": [
    "cor=pdf[pdf['pass.type.name']=='Free Kick'].index"
   ]
  },
  {
   "cell_type": "code",
   "execution_count": 423,
   "metadata": {},
   "outputs": [],
   "source": [
    "pdf=pdf.drop(cor)"
   ]
  },
  {
   "cell_type": "code",
   "execution_count": 425,
   "metadata": {},
   "outputs": [
    {
     "data": {
      "text/plain": [
       "Luka Modrić          48\n",
       "Toni Kroos           43\n",
       "Neymar Jr            42\n",
       "Philippe Coutinho    42\n",
       "Isco                 42\n",
       "Kevin De Bruyne      42\n",
       "Ivan Rakitić         38\n",
       "Joshua Kimmich       38\n",
       "Mesut Özil           37\n",
       "Name: player.name, dtype: int64"
      ]
     },
     "execution_count": 425,
     "metadata": {},
     "output_type": "execute_result"
    }
   ],
   "source": [
    "pdf[\"player.name\"].value_counts().head(9)"
   ]
  },
  {
   "cell_type": "code",
   "execution_count": 431,
   "metadata": {},
   "outputs": [
    {
     "data": {
      "text/html": [
       "<div>\n",
       "<style scoped>\n",
       "    .dataframe tbody tr th:only-of-type {\n",
       "        vertical-align: middle;\n",
       "    }\n",
       "\n",
       "    .dataframe tbody tr th {\n",
       "        vertical-align: top;\n",
       "    }\n",
       "\n",
       "    .dataframe thead th {\n",
       "        text-align: right;\n",
       "    }\n",
       "</style>\n",
       "<table border=\"1\" class=\"dataframe\">\n",
       "  <thead>\n",
       "    <tr style=\"text-align: right;\">\n",
       "      <th></th>\n",
       "      <th>id</th>\n",
       "      <th>index</th>\n",
       "      <th>period</th>\n",
       "      <th>timestamp</th>\n",
       "      <th>minute</th>\n",
       "      <th>second</th>\n",
       "      <th>possession</th>\n",
       "      <th>duration</th>\n",
       "      <th>type.id</th>\n",
       "      <th>type.name</th>\n",
       "      <th>...</th>\n",
       "      <th>shot.one_on_one</th>\n",
       "      <th>block.save_block</th>\n",
       "      <th>pass.miscommunication</th>\n",
       "      <th>bad_behaviour.card.id</th>\n",
       "      <th>bad_behaviour.card.name</th>\n",
       "      <th>shot.open_goal</th>\n",
       "      <th>shot.deflected</th>\n",
       "      <th>shot.redirect</th>\n",
       "      <th>shot.follows_dribble</th>\n",
       "      <th>total_time</th>\n",
       "    </tr>\n",
       "    <tr>\n",
       "      <th>match_id</th>\n",
       "      <th></th>\n",
       "      <th></th>\n",
       "      <th></th>\n",
       "      <th></th>\n",
       "      <th></th>\n",
       "      <th></th>\n",
       "      <th></th>\n",
       "      <th></th>\n",
       "      <th></th>\n",
       "      <th></th>\n",
       "      <th></th>\n",
       "      <th></th>\n",
       "      <th></th>\n",
       "      <th></th>\n",
       "      <th></th>\n",
       "      <th></th>\n",
       "      <th></th>\n",
       "      <th></th>\n",
       "      <th></th>\n",
       "      <th></th>\n",
       "      <th></th>\n",
       "    </tr>\n",
       "  </thead>\n",
       "  <tbody>\n",
       "    <tr>\n",
       "      <th>7536</th>\n",
       "      <td>9</td>\n",
       "      <td>9</td>\n",
       "      <td>9</td>\n",
       "      <td>9</td>\n",
       "      <td>9</td>\n",
       "      <td>9</td>\n",
       "      <td>9</td>\n",
       "      <td>9</td>\n",
       "      <td>9</td>\n",
       "      <td>9</td>\n",
       "      <td>...</td>\n",
       "      <td>0</td>\n",
       "      <td>0</td>\n",
       "      <td>0</td>\n",
       "      <td>0</td>\n",
       "      <td>0</td>\n",
       "      <td>0</td>\n",
       "      <td>0</td>\n",
       "      <td>0</td>\n",
       "      <td>0</td>\n",
       "      <td>9</td>\n",
       "    </tr>\n",
       "    <tr>\n",
       "      <th>7552</th>\n",
       "      <td>13</td>\n",
       "      <td>13</td>\n",
       "      <td>13</td>\n",
       "      <td>13</td>\n",
       "      <td>13</td>\n",
       "      <td>13</td>\n",
       "      <td>13</td>\n",
       "      <td>13</td>\n",
       "      <td>13</td>\n",
       "      <td>13</td>\n",
       "      <td>...</td>\n",
       "      <td>0</td>\n",
       "      <td>0</td>\n",
       "      <td>0</td>\n",
       "      <td>0</td>\n",
       "      <td>0</td>\n",
       "      <td>0</td>\n",
       "      <td>0</td>\n",
       "      <td>0</td>\n",
       "      <td>0</td>\n",
       "      <td>13</td>\n",
       "    </tr>\n",
       "    <tr>\n",
       "      <th>7584</th>\n",
       "      <td>12</td>\n",
       "      <td>12</td>\n",
       "      <td>12</td>\n",
       "      <td>12</td>\n",
       "      <td>12</td>\n",
       "      <td>12</td>\n",
       "      <td>12</td>\n",
       "      <td>12</td>\n",
       "      <td>12</td>\n",
       "      <td>12</td>\n",
       "      <td>...</td>\n",
       "      <td>0</td>\n",
       "      <td>0</td>\n",
       "      <td>0</td>\n",
       "      <td>0</td>\n",
       "      <td>0</td>\n",
       "      <td>0</td>\n",
       "      <td>0</td>\n",
       "      <td>0</td>\n",
       "      <td>0</td>\n",
       "      <td>12</td>\n",
       "    </tr>\n",
       "    <tr>\n",
       "      <th>8650</th>\n",
       "      <td>6</td>\n",
       "      <td>6</td>\n",
       "      <td>6</td>\n",
       "      <td>6</td>\n",
       "      <td>6</td>\n",
       "      <td>6</td>\n",
       "      <td>6</td>\n",
       "      <td>6</td>\n",
       "      <td>6</td>\n",
       "      <td>6</td>\n",
       "      <td>...</td>\n",
       "      <td>0</td>\n",
       "      <td>0</td>\n",
       "      <td>0</td>\n",
       "      <td>0</td>\n",
       "      <td>0</td>\n",
       "      <td>0</td>\n",
       "      <td>0</td>\n",
       "      <td>0</td>\n",
       "      <td>0</td>\n",
       "      <td>6</td>\n",
       "    </tr>\n",
       "    <tr>\n",
       "      <th>8655</th>\n",
       "      <td>2</td>\n",
       "      <td>2</td>\n",
       "      <td>2</td>\n",
       "      <td>2</td>\n",
       "      <td>2</td>\n",
       "      <td>2</td>\n",
       "      <td>2</td>\n",
       "      <td>2</td>\n",
       "      <td>2</td>\n",
       "      <td>2</td>\n",
       "      <td>...</td>\n",
       "      <td>0</td>\n",
       "      <td>0</td>\n",
       "      <td>0</td>\n",
       "      <td>0</td>\n",
       "      <td>0</td>\n",
       "      <td>0</td>\n",
       "      <td>0</td>\n",
       "      <td>0</td>\n",
       "      <td>0</td>\n",
       "      <td>2</td>\n",
       "    </tr>\n",
       "    <tr>\n",
       "      <th>8657</th>\n",
       "      <td>3</td>\n",
       "      <td>3</td>\n",
       "      <td>3</td>\n",
       "      <td>3</td>\n",
       "      <td>3</td>\n",
       "      <td>3</td>\n",
       "      <td>3</td>\n",
       "      <td>3</td>\n",
       "      <td>3</td>\n",
       "      <td>3</td>\n",
       "      <td>...</td>\n",
       "      <td>0</td>\n",
       "      <td>0</td>\n",
       "      <td>0</td>\n",
       "      <td>0</td>\n",
       "      <td>0</td>\n",
       "      <td>0</td>\n",
       "      <td>0</td>\n",
       "      <td>0</td>\n",
       "      <td>0</td>\n",
       "      <td>3</td>\n",
       "    </tr>\n",
       "  </tbody>\n",
       "</table>\n",
       "<p>6 rows × 122 columns</p>\n",
       "</div>"
      ],
      "text/plain": [
       "          id  index  period  timestamp  minute  second  possession  duration  \\\n",
       "match_id                                                                       \n",
       "7536       9      9       9          9       9       9           9         9   \n",
       "7552      13     13      13         13      13      13          13        13   \n",
       "7584      12     12      12         12      12      12          12        12   \n",
       "8650       6      6       6          6       6       6           6         6   \n",
       "8655       2      2       2          2       2       2           2         2   \n",
       "8657       3      3       3          3       3       3           3         3   \n",
       "\n",
       "          type.id  type.name  ...  shot.one_on_one  block.save_block  \\\n",
       "match_id                      ...                                      \n",
       "7536            9          9  ...                0                 0   \n",
       "7552           13         13  ...                0                 0   \n",
       "7584           12         12  ...                0                 0   \n",
       "8650            6          6  ...                0                 0   \n",
       "8655            2          2  ...                0                 0   \n",
       "8657            3          3  ...                0                 0   \n",
       "\n",
       "          pass.miscommunication  bad_behaviour.card.id  \\\n",
       "match_id                                                 \n",
       "7536                          0                      0   \n",
       "7552                          0                      0   \n",
       "7584                          0                      0   \n",
       "8650                          0                      0   \n",
       "8655                          0                      0   \n",
       "8657                          0                      0   \n",
       "\n",
       "          bad_behaviour.card.name  shot.open_goal  shot.deflected  \\\n",
       "match_id                                                            \n",
       "7536                            0               0               0   \n",
       "7552                            0               0               0   \n",
       "7584                            0               0               0   \n",
       "8650                            0               0               0   \n",
       "8655                            0               0               0   \n",
       "8657                            0               0               0   \n",
       "\n",
       "          shot.redirect  shot.follows_dribble  total_time  \n",
       "match_id                                                   \n",
       "7536                  0                     0           9  \n",
       "7552                  0                     0          13  \n",
       "7584                  0                     0          12  \n",
       "8650                  0                     0           6  \n",
       "8655                  0                     0           2  \n",
       "8657                  0                     0           3  \n",
       "\n",
       "[6 rows x 122 columns]"
      ]
     },
     "execution_count": 431,
     "metadata": {},
     "output_type": "execute_result"
    }
   ],
   "source": [
    "p_df[p_df[\"player.name\"]==\"Kevin De Bruyne\"].groupby(\"match_id\").count()"
   ]
  },
  {
   "cell_type": "code",
   "execution_count": 439,
   "metadata": {},
   "outputs": [
    {
     "data": {
      "text/html": [
       "<div>\n",
       "<style scoped>\n",
       "    .dataframe tbody tr th:only-of-type {\n",
       "        vertical-align: middle;\n",
       "    }\n",
       "\n",
       "    .dataframe tbody tr th {\n",
       "        vertical-align: top;\n",
       "    }\n",
       "\n",
       "    .dataframe thead th {\n",
       "        text-align: right;\n",
       "    }\n",
       "</style>\n",
       "<table border=\"1\" class=\"dataframe\">\n",
       "  <thead>\n",
       "    <tr style=\"text-align: right;\">\n",
       "      <th></th>\n",
       "      <th>type.name</th>\n",
       "      <th>location</th>\n",
       "      <th>minute</th>\n",
       "      <th>second</th>\n",
       "      <th>index</th>\n",
       "      <th>possession_team.name</th>\n",
       "      <th>match_id</th>\n",
       "      <th>timestamp</th>\n",
       "      <th>total_time</th>\n",
       "    </tr>\n",
       "  </thead>\n",
       "  <tbody>\n",
       "    <tr>\n",
       "      <th>474</th>\n",
       "      <td>Shot</td>\n",
       "      <td>[95.0, 33.0]</td>\n",
       "      <td>15</td>\n",
       "      <td>13</td>\n",
       "      <td>677</td>\n",
       "      <td>Belgium</td>\n",
       "      <td>7584</td>\n",
       "      <td>00:15:13.520</td>\n",
       "      <td>913</td>\n",
       "    </tr>\n",
       "    <tr>\n",
       "      <th>475</th>\n",
       "      <td>Shot</td>\n",
       "      <td>[111.0, 51.0]</td>\n",
       "      <td>15</td>\n",
       "      <td>58</td>\n",
       "      <td>688</td>\n",
       "      <td>Belgium</td>\n",
       "      <td>7584</td>\n",
       "      <td>00:15:58.760</td>\n",
       "      <td>958</td>\n",
       "    </tr>\n",
       "    <tr>\n",
       "      <th>476</th>\n",
       "      <td>Shot</td>\n",
       "      <td>[105.0, 40.0]</td>\n",
       "      <td>16</td>\n",
       "      <td>33</td>\n",
       "      <td>712</td>\n",
       "      <td>Belgium</td>\n",
       "      <td>7584</td>\n",
       "      <td>00:16:33.680</td>\n",
       "      <td>993</td>\n",
       "    </tr>\n",
       "    <tr>\n",
       "      <th>477</th>\n",
       "      <td>Shot</td>\n",
       "      <td>[111.0, 48.0]</td>\n",
       "      <td>17</td>\n",
       "      <td>16</td>\n",
       "      <td>718</td>\n",
       "      <td>Belgium</td>\n",
       "      <td>7584</td>\n",
       "      <td>00:17:16.133</td>\n",
       "      <td>1036</td>\n",
       "    </tr>\n",
       "    <tr>\n",
       "      <th>478</th>\n",
       "      <td>Shot</td>\n",
       "      <td>[112.0, 50.0]</td>\n",
       "      <td>17</td>\n",
       "      <td>17</td>\n",
       "      <td>723</td>\n",
       "      <td>Belgium</td>\n",
       "      <td>7584</td>\n",
       "      <td>00:17:17.440</td>\n",
       "      <td>1037</td>\n",
       "    </tr>\n",
       "    <tr>\n",
       "      <th>479</th>\n",
       "      <td>Shot</td>\n",
       "      <td>[101.0, 50.0]</td>\n",
       "      <td>20</td>\n",
       "      <td>10</td>\n",
       "      <td>846</td>\n",
       "      <td>Belgium</td>\n",
       "      <td>7584</td>\n",
       "      <td>00:20:10.680</td>\n",
       "      <td>1210</td>\n",
       "    </tr>\n",
       "    <tr>\n",
       "      <th>480</th>\n",
       "      <td>Shot</td>\n",
       "      <td>[114.0, 41.0]</td>\n",
       "      <td>24</td>\n",
       "      <td>53</td>\n",
       "      <td>1046</td>\n",
       "      <td>Belgium</td>\n",
       "      <td>7584</td>\n",
       "      <td>00:24:53.280</td>\n",
       "      <td>1493</td>\n",
       "    </tr>\n",
       "    <tr>\n",
       "      <th>481</th>\n",
       "      <td>Shot</td>\n",
       "      <td>[102.0, 46.0]</td>\n",
       "      <td>26</td>\n",
       "      <td>5</td>\n",
       "      <td>1107</td>\n",
       "      <td>Belgium</td>\n",
       "      <td>7584</td>\n",
       "      <td>00:26:05.600</td>\n",
       "      <td>1565</td>\n",
       "    </tr>\n",
       "    <tr>\n",
       "      <th>482</th>\n",
       "      <td>Shot</td>\n",
       "      <td>[102.0, 26.0]</td>\n",
       "      <td>26</td>\n",
       "      <td>32</td>\n",
       "      <td>1137</td>\n",
       "      <td>Belgium</td>\n",
       "      <td>7584</td>\n",
       "      <td>00:26:32.280</td>\n",
       "      <td>1592</td>\n",
       "    </tr>\n",
       "    <tr>\n",
       "      <th>483</th>\n",
       "      <td>Shot</td>\n",
       "      <td>[118.0, 45.0]</td>\n",
       "      <td>27</td>\n",
       "      <td>26</td>\n",
       "      <td>1168</td>\n",
       "      <td>Belgium</td>\n",
       "      <td>7584</td>\n",
       "      <td>00:27:26.360</td>\n",
       "      <td>1646</td>\n",
       "    </tr>\n",
       "  </tbody>\n",
       "</table>\n",
       "</div>"
      ],
      "text/plain": [
       "    type.name       location  minute  second  index possession_team.name  \\\n",
       "474      Shot   [95.0, 33.0]      15      13    677              Belgium   \n",
       "475      Shot  [111.0, 51.0]      15      58    688              Belgium   \n",
       "476      Shot  [105.0, 40.0]      16      33    712              Belgium   \n",
       "477      Shot  [111.0, 48.0]      17      16    718              Belgium   \n",
       "478      Shot  [112.0, 50.0]      17      17    723              Belgium   \n",
       "479      Shot  [101.0, 50.0]      20      10    846              Belgium   \n",
       "480      Shot  [114.0, 41.0]      24      53   1046              Belgium   \n",
       "481      Shot  [102.0, 46.0]      26       5   1107              Belgium   \n",
       "482      Shot  [102.0, 26.0]      26      32   1137              Belgium   \n",
       "483      Shot  [118.0, 45.0]      27      26   1168              Belgium   \n",
       "\n",
       "     match_id     timestamp  total_time  \n",
       "474      7584  00:15:13.520         913  \n",
       "475      7584  00:15:58.760         958  \n",
       "476      7584  00:16:33.680         993  \n",
       "477      7584  00:17:16.133        1036  \n",
       "478      7584  00:17:17.440        1037  \n",
       "479      7584  00:20:10.680        1210  \n",
       "480      7584  00:24:53.280        1493  \n",
       "481      7584  00:26:05.600        1565  \n",
       "482      7584  00:26:32.280        1592  \n",
       "483      7584  00:27:26.360        1646  "
      ]
     },
     "execution_count": 439,
     "metadata": {},
     "output_type": "execute_result"
    }
   ],
   "source": [
    "sh_df[sh_df[\"possession_team.name\"]==\"Belgium\"].head(10)"
   ]
  },
  {
   "cell_type": "code",
   "execution_count": null,
   "metadata": {},
   "outputs": [],
   "source": []
  }
 ],
 "metadata": {
  "kernelspec": {
   "display_name": "Python 3 (ipykernel)",
   "language": "python",
   "name": "python3"
  },
  "language_info": {
   "codemirror_mode": {
    "name": "ipython",
    "version": 3
   },
   "file_extension": ".py",
   "mimetype": "text/x-python",
   "name": "python",
   "nbconvert_exporter": "python",
   "pygments_lexer": "ipython3",
   "version": "3.10.12"
  }
 },
 "nbformat": 4,
 "nbformat_minor": 4
}
