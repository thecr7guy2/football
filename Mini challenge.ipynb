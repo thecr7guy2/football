{
 "cells": [
  {
   "cell_type": "markdown",
   "metadata": {},
   "source": [
    "### Mini Challenge - Plotting Actions\n",
    "Sai"
   ]
  },
  {
   "cell_type": "markdown",
   "metadata": {},
   "source": [
    "#### This Minichallege is a part of Mathematical Moddeling in soccer course taken by David sumpter"
   ]
  },
  {
   "cell_type": "markdown",
   "metadata": {},
   "source": [
    "1, Think of a player who you enjoyed watching at the recent Men’s or Women’s World Cups.\n",
    "\n",
    "2, What actions did they perform that were important and why?\n",
    "\n",
    "3, Plot the actions and describe how the data supports or contradicts your own analysis.\n",
    "\n",
    "4, Write a short text using at most two figures that illustrate your point."
   ]
  },
  {
   "cell_type": "markdown",
   "metadata": {},
   "source": [
    "### Eden Hazard against Brazil in the Quarter Finals of the Worldcup(2018) was one of the best individual perfomance of the tournament for me "
   ]
  },
  {
   "cell_type": "markdown",
   "metadata": {},
   "source": [
    "##### What made it so special for me was after Brazil scored a goal and made it 2-1 on the 75', I expected a brazil to go on an All out Attack and somehow score another by the looks of how they were playng \n",
    "##### But they were left frustrated.Hazard was unplayable in the last 15 mins and made life hard for the side lead by Tite"
   ]
  },
  {
   "cell_type": "code",
   "execution_count": 1,
   "metadata": {},
   "outputs": [],
   "source": [
    "import numpy as np\n",
    "import pandas as pd\n",
    "import matplotlib.pyplot as plt \n",
    "import seaborn as sns\n",
    "import json\n",
    "from mplsoccer.pitch import Pitch, add_image\n",
    "%matplotlib inline  \n",
    "pd.options.mode.chained_assignment = None\n",
    "plt.style.use('ggplot')\n",
    "#importing all the needed libraries"
   ]
  },
  {
   "cell_type": "code",
   "execution_count": 2,
   "metadata": {},
   "outputs": [],
   "source": [
    "with open('open-data-master/data/matches/43/3.json') as m:\n",
    "    m = json.load(m)\n",
    "#Get the list of matches played in 2018 World Cup"
   ]
  },
  {
   "cell_type": "code",
   "execution_count": 3,
   "metadata": {},
   "outputs": [
    {
     "name": "stdout",
     "output_type": "stream",
     "text": [
      "7\n"
     ]
    }
   ],
   "source": [
    "count=0\n",
    "for i in range(0,len(m)):\n",
    "    if m[i][\"home_team\"][\"home_team_name\"]==\"Belgium\" or m[i][\"away_team\"][\"away_team_name\"]==\"Belgium\":\n",
    "        count=count+1\n",
    "print(count)\n",
    "\n",
    "#Filter the matches Belgium played\n",
    "#Belgium can play both home and away \n",
    "#Verifying if the filter is good "
   ]
  },
  {
   "cell_type": "code",
   "execution_count": 4,
   "metadata": {},
   "outputs": [
    {
     "name": "stdout",
     "output_type": "stream",
     "text": [
      "Belgium vs Japan 2018-07-02\n",
      "Belgium vs Panama 2018-06-18\n",
      "Brazil vs Belgium 2018-07-06\n",
      "Belgium vs Tunisia 2018-06-23\n",
      "England vs Belgium 2018-06-28\n",
      "France vs Belgium 2018-07-10\n",
      "Belgium vs England 2018-07-14\n"
     ]
    }
   ],
   "source": [
    "for i in range(0,len(m)):\n",
    "    if m[i][\"home_team\"][\"home_team_name\"]==\"Belgium\" or m[i][\"away_team\"][\"away_team_name\"]==\"Belgium\":\n",
    "        print(m[i][\"home_team\"][\"home_team_name\"]+ \" vs \"+m[i][\"away_team\"][\"away_team_name\"]+\" \"+m[i][\"match_date\"] )\n",
    "        \n",
    "#Now checking if the teams and date are good "
   ]
  },
  {
   "cell_type": "code",
   "execution_count": 5,
   "metadata": {},
   "outputs": [],
   "source": [
    "m_id=[]\n",
    "for i in range(0,len(m)):\n",
    "    if m[i][\"home_team\"][\"home_team_name\"]==\"Belgium\" or m[i][\"away_team\"][\"away_team_name\"]==\"Belgium\":\n",
    "        m_id.append(m[i][\"match_id\"])\n",
    "#getting a list of match_ids that belgium played"
   ]
  },
  {
   "cell_type": "code",
   "execution_count": 6,
   "metadata": {},
   "outputs": [],
   "source": [
    "#converting them to string so they are helpful when needed \n",
    "for i in range(0,len(m_id)):\n",
    "    m_id[i]=str(m_id[i])"
   ]
  },
  {
   "cell_type": "code",
   "execution_count": 7,
   "metadata": {},
   "outputs": [
    {
     "name": "stdout",
     "output_type": "stream",
     "text": [
      "['7584', '7536', '8650', '7552', '7570', '8655', '8657']\n"
     ]
    }
   ],
   "source": [
    "print(m_id)"
   ]
  },
  {
   "cell_type": "code",
   "execution_count": 8,
   "metadata": {},
   "outputs": [],
   "source": [
    "# goal here is to have a huge dataframe with all matches \n",
    "# json_normalize helps us convert a json file to dataframe \n",
    "\n",
    "df=pd.DataFrame()\n",
    "for i in m_id:\n",
    "    match=json.load(open(\"open-data-master/data/events/\"+i+\".json\",encoding=\"utf8\"))\n",
    "    temp_df=pd.json_normalize(match).assign(match_id = int(i)) \n",
    "    df=pd.concat([df,temp_df],axis=0,)\n",
    "    "
   ]
  },
  {
   "cell_type": "code",
   "execution_count": 9,
   "metadata": {},
   "outputs": [
    {
     "name": "stdout",
     "output_type": "stream",
     "text": [
      "<class 'pandas.core.frame.DataFrame'>\n",
      "Int64Index: 26220 entries, 0 to 4425\n",
      "Columns: 121 entries, id to shot.redirect\n",
      "dtypes: float64(33), int64(10), object(78)\n",
      "memory usage: 24.4+ MB\n"
     ]
    }
   ],
   "source": [
    "df.info()"
   ]
  },
  {
   "cell_type": "code",
   "execution_count": 10,
   "metadata": {},
   "outputs": [],
   "source": [
    "#let us now concentrate on Brazil vs Belgium"
   ]
  },
  {
   "cell_type": "code",
   "execution_count": 11,
   "metadata": {},
   "outputs": [],
   "source": [
    "brabel=df[df[\"match_id\"]==8650]"
   ]
  },
  {
   "cell_type": "code",
   "execution_count": 12,
   "metadata": {},
   "outputs": [],
   "source": [
    "#now getting Eden hazard specific events from the Brazil vs Belgium game "
   ]
  },
  {
   "cell_type": "code",
   "execution_count": 13,
   "metadata": {},
   "outputs": [],
   "source": [
    "haz=brabel[brabel[\"player.name\"]==\"Eden Hazard\"]"
   ]
  },
  {
   "cell_type": "code",
   "execution_count": 14,
   "metadata": {},
   "outputs": [
    {
     "name": "stdout",
     "output_type": "stream",
     "text": [
      "<class 'pandas.core.frame.DataFrame'>\n",
      "Int64Index: 200 entries, 39 to 3579\n",
      "Columns: 121 entries, id to shot.redirect\n",
      "dtypes: float64(33), int64(10), object(78)\n",
      "memory usage: 190.6+ KB\n"
     ]
    }
   ],
   "source": [
    "haz.info()"
   ]
  },
  {
   "cell_type": "code",
   "execution_count": 15,
   "metadata": {},
   "outputs": [
    {
     "data": {
      "text/plain": [
       "Ball Receipt*     52\n",
       "Carry             49\n",
       "Pass              39\n",
       "Pressure          20\n",
       "Foul Won          11\n",
       "Dribble            9\n",
       "Ball Recovery      7\n",
       "Foul Committed     4\n",
       "Miscontrol         3\n",
       "Dispossessed       3\n",
       "Shot               2\n",
       "Block              1\n",
       "Name: type.name, dtype: int64"
      ]
     },
     "execution_count": 15,
     "metadata": {},
     "output_type": "execute_result"
    }
   ],
   "source": [
    "haz[\"type.name\"].value_counts()"
   ]
  },
  {
   "cell_type": "code",
   "execution_count": 16,
   "metadata": {},
   "outputs": [],
   "source": [
    "#checking the event frequency and instantly those 9 dribbles catches the eye"
   ]
  },
  {
   "cell_type": "code",
   "execution_count": 17,
   "metadata": {},
   "outputs": [
    {
     "data": {
      "text/plain": [
       "<matplotlib.axes._subplots.AxesSubplot at 0x1ad7ae5f828>"
      ]
     },
     "execution_count": 17,
     "metadata": {},
     "output_type": "execute_result"
    },
    {
     "data": {
      "image/png": "[encoded data removed]",
      "text/plain": [
       "<Figure size 432x288 with 1 Axes>"
      ]
     },
     "metadata": {},
     "output_type": "display_data"
    }
   ],
   "source": [
    "haz[\"type.name\"].value_counts().plot(kind=\"bar\")"
   ]
  },
  {
   "cell_type": "code",
   "execution_count": 18,
   "metadata": {},
   "outputs": [],
   "source": [
    "# getting the event dribble and checking the number of dribbles completed "
   ]
  },
  {
   "cell_type": "code",
   "execution_count": 19,
   "metadata": {},
   "outputs": [
    {
     "data": {
      "text/plain": [
       "9"
      ]
     },
     "execution_count": 19,
     "metadata": {},
     "output_type": "execute_result"
    }
   ],
   "source": [
    "len(haz[(haz[\"type.name\"]==\"Dribble\") & (haz[\"dribble.outcome.name\"]==\"Complete\")])"
   ]
  },
  {
   "cell_type": "code",
   "execution_count": 20,
   "metadata": {},
   "outputs": [],
   "source": [
    "#Of the 9 attempted dribbles hazard had completed 9 dribbles which is quite an amazing thing "
   ]
  },
  {
   "cell_type": "markdown",
   "metadata": {},
   "source": [
    "##### From when i watched the game i thought hazard had a brilliant last 15 mins of the game (since brazil scored a goal and started to make a comeback)\n",
    "##### let us now check this hypothesis using the data we have "
   ]
  },
  {
   "cell_type": "code",
   "execution_count": 21,
   "metadata": {},
   "outputs": [
    {
     "data": {
      "text/plain": [
       "3243    84\n",
       "3336    87\n",
       "3388    89\n",
       "3395    89\n",
       "3520    92\n",
       "Name: minute, dtype: int64"
      ]
     },
     "execution_count": 21,
     "metadata": {},
     "output_type": "execute_result"
    }
   ],
   "source": [
    "haz[(haz[\"type.name\"]==\"Foul Won\") & (haz[\"minute\"]> 75)][\"minute\"]"
   ]
  },
  {
   "cell_type": "markdown",
   "metadata": {},
   "source": [
    "#### Hazard has won 5 fouls in the last 6 mins of the game disrupting brazils attack and gaining some valuable mins for the team and giving some really important breathers to players who were really tired at the end of the game "
   ]
  },
  {
   "cell_type": "code",
   "execution_count": 22,
   "metadata": {},
   "outputs": [],
   "source": [
    "#now let us check the locations where hazard was fouled"
   ]
  },
  {
   "cell_type": "code",
   "execution_count": 23,
   "metadata": {},
   "outputs": [
    {
     "data": {
      "text/plain": [
       "3243    [70.0, 58.0]\n",
       "3336    [77.0, 48.0]\n",
       "3388    [34.0, 45.0]\n",
       "3395    [56.0, 42.0]\n",
       "3520    [83.0, 78.0]\n",
       "Name: location, dtype: object"
      ]
     },
     "execution_count": 23,
     "metadata": {},
     "output_type": "execute_result"
    }
   ],
   "source": [
    "haz[(haz[\"type.name\"]==\"Foul Won\") & (haz[\"minute\"]> 75)][\"location\"]"
   ]
  },
  {
   "cell_type": "code",
   "execution_count": 24,
   "metadata": {},
   "outputs": [],
   "source": [
    "#the location attribute for the events is form of a list,it would be better\n",
    "#if we would have a seoperate column in the dataframe so that we can work easily\n",
    "\n",
    "### DOING THE SAME WID CARRYEND LOC AND PASSEND LOC"
   ]
  },
  {
   "cell_type": "code",
   "execution_count": 25,
   "metadata": {},
   "outputs": [],
   "source": [
    "def xloc(x):\n",
    "    return x[0]\n",
    "haz[\"X_loc\"]=haz[\"location\"].apply(lambda x:xloc(x))\n"
   ]
  },
  {
   "cell_type": "code",
   "execution_count": 26,
   "metadata": {},
   "outputs": [],
   "source": [
    "def ploc(x):\n",
    "    if type(x)==list:\n",
    "        return x[0]\n",
    "    else:\n",
    "        return np.nan\n",
    "haz[\"pend_x\"]=haz[\"pass.end_location\"].apply(lambda x:ploc(x))"
   ]
  },
  {
   "cell_type": "code",
   "execution_count": 27,
   "metadata": {},
   "outputs": [],
   "source": [
    "def cloc(x):\n",
    "    if type(x)==list:\n",
    "        return x[0]\n",
    "    else:\n",
    "        return np.nan\n",
    "haz[\"cend_x\"]=haz[\"carry.end_location\"].apply(lambda x:cloc(x))"
   ]
  },
  {
   "cell_type": "code",
   "execution_count": 28,
   "metadata": {},
   "outputs": [],
   "source": [
    "def ploc(x):\n",
    "    if type(x)==list:\n",
    "        return x[1]\n",
    "    else:\n",
    "        return np.nan\n",
    "haz[\"pend_y\"]=haz[\"pass.end_location\"].apply(lambda x:ploc(x))"
   ]
  },
  {
   "cell_type": "code",
   "execution_count": 29,
   "metadata": {},
   "outputs": [],
   "source": [
    "def cloc(x):\n",
    "    if type(x)==list:\n",
    "        return x[1]\n",
    "    else:\n",
    "        return np.nan\n",
    "haz[\"cend_y\"]=haz[\"carry.end_location\"].apply(lambda x:cloc(x))"
   ]
  },
  {
   "cell_type": "code",
   "execution_count": 30,
   "metadata": {},
   "outputs": [],
   "source": [
    "def yloc(x):\n",
    "    return x[1]\n",
    "haz[\"y_loc\"]=haz[\"location\"].apply(lambda x:yloc(x))"
   ]
  },
  {
   "cell_type": "code",
   "execution_count": 31,
   "metadata": {},
   "outputs": [],
   "source": [
    "#creating a easier data frame to work with "
   ]
  },
  {
   "cell_type": "code",
   "execution_count": 32,
   "metadata": {},
   "outputs": [],
   "source": [
    "haz_foul=haz[(haz[\"type.name\"]==\"Foul Won\") & (haz[\"minute\"]> 75)][[\"X_loc\",\"y_loc\",\"minute\",\"type.name\"]]"
   ]
  },
  {
   "cell_type": "code",
   "execution_count": 33,
   "metadata": {},
   "outputs": [
    {
     "data": {
      "text/html": [
       "<div>\n",
       "<style scoped>\n",
       "    .dataframe tbody tr th:only-of-type {\n",
       "        vertical-align: middle;\n",
       "    }\n",
       "\n",
       "    .dataframe tbody tr th {\n",
       "        vertical-align: top;\n",
       "    }\n",
       "\n",
       "    .dataframe thead th {\n",
       "        text-align: right;\n",
       "    }\n",
       "</style>\n",
       "<table border=\"1\" class=\"dataframe\">\n",
       "  <thead>\n",
       "    <tr style=\"text-align: right;\">\n",
       "      <th></th>\n",
       "      <th>X_loc</th>\n",
       "      <th>y_loc</th>\n",
       "      <th>minute</th>\n",
       "      <th>type.name</th>\n",
       "    </tr>\n",
       "  </thead>\n",
       "  <tbody>\n",
       "    <tr>\n",
       "      <th>3243</th>\n",
       "      <td>70.0</td>\n",
       "      <td>58.0</td>\n",
       "      <td>84</td>\n",
       "      <td>Foul Won</td>\n",
       "    </tr>\n",
       "    <tr>\n",
       "      <th>3336</th>\n",
       "      <td>77.0</td>\n",
       "      <td>48.0</td>\n",
       "      <td>87</td>\n",
       "      <td>Foul Won</td>\n",
       "    </tr>\n",
       "    <tr>\n",
       "      <th>3388</th>\n",
       "      <td>34.0</td>\n",
       "      <td>45.0</td>\n",
       "      <td>89</td>\n",
       "      <td>Foul Won</td>\n",
       "    </tr>\n",
       "    <tr>\n",
       "      <th>3395</th>\n",
       "      <td>56.0</td>\n",
       "      <td>42.0</td>\n",
       "      <td>89</td>\n",
       "      <td>Foul Won</td>\n",
       "    </tr>\n",
       "    <tr>\n",
       "      <th>3520</th>\n",
       "      <td>83.0</td>\n",
       "      <td>78.0</td>\n",
       "      <td>92</td>\n",
       "      <td>Foul Won</td>\n",
       "    </tr>\n",
       "  </tbody>\n",
       "</table>\n",
       "</div>"
      ],
      "text/plain": [
       "      X_loc  y_loc  minute type.name\n",
       "3243   70.0   58.0      84  Foul Won\n",
       "3336   77.0   48.0      87  Foul Won\n",
       "3388   34.0   45.0      89  Foul Won\n",
       "3395   56.0   42.0      89  Foul Won\n",
       "3520   83.0   78.0      92  Foul Won"
      ]
     },
     "execution_count": 33,
     "metadata": {},
     "output_type": "execute_result"
    }
   ],
   "source": [
    "haz_foul"
   ]
  },
  {
   "cell_type": "code",
   "execution_count": 34,
   "metadata": {},
   "outputs": [],
   "source": [
    "#Using MPL SOCCER A LIBRARY by @numberstorm on Twitter to plot the pitch.\n",
    "#and plotting the regions hazard was fouled annotated with the min he was fouled"
   ]
  },
  {
   "cell_type": "code",
   "execution_count": 35,
   "metadata": {},
   "outputs": [
    {
     "data": {
      "image/png": "[encoded data removed]",
      "text/plain": [
       "<Figure size 720x432 with 1 Axes>"
      ]
     },
     "metadata": {},
     "output_type": "display_data"
    }
   ],
   "source": [
    "pitch = Pitch(pitch_type='statsbomb',figsize=(10,6),pitch_color='#aabb97', line_color='white',stripe_color='#c2d59d', stripe=True)\n",
    "fig,ax = pitch.draw()\n",
    "pitch.scatter(x=\"X_loc\",y=\"y_loc\",data=haz_foul,ax=ax,s=500)\n",
    "for i in range(0,5):\n",
    "    ax.annotate(str(haz_foul[\"minute\"].to_list()[i]),  xy=(haz_foul[\"X_loc\"].to_list()[i],haz_foul[\"y_loc\"].to_list()[i]), color='white',\n",
    "                fontsize=\"large\", weight='heavy',\n",
    "                horizontalalignment='center',\n",
    "                verticalalignment='center')\n",
    "    plt.title(\"Regions hazard is fouled at after 75'\")"
   ]
  },
  {
   "cell_type": "code",
   "execution_count": 36,
   "metadata": {},
   "outputs": [],
   "source": [
    "#Also checking the dribbles hazard has after the brazil goal"
   ]
  },
  {
   "cell_type": "code",
   "execution_count": 37,
   "metadata": {},
   "outputs": [],
   "source": [
    "drib=haz[(haz[\"type.name\"]==\"Dribble\") & (haz[\"minute\"]> 75)].index.to_list()"
   ]
  },
  {
   "cell_type": "code",
   "execution_count": 38,
   "metadata": {},
   "outputs": [],
   "source": [
    "for i in range(0,len(drib)):\n",
    "    drib[i]=drib[i]+1"
   ]
  },
  {
   "cell_type": "code",
   "execution_count": 39,
   "metadata": {},
   "outputs": [],
   "source": [
    "hazdrib=haz.loc[drib][[\"X_loc\",\"y_loc\",\"minute\",\"type.name\",\"carry.end_location\",\"cend_x\",\"cend_y\"]]"
   ]
  },
  {
   "cell_type": "code",
   "execution_count": 40,
   "metadata": {},
   "outputs": [
    {
     "data": {
      "text/html": [
       "<div>\n",
       "<style scoped>\n",
       "    .dataframe tbody tr th:only-of-type {\n",
       "        vertical-align: middle;\n",
       "    }\n",
       "\n",
       "    .dataframe tbody tr th {\n",
       "        vertical-align: top;\n",
       "    }\n",
       "\n",
       "    .dataframe thead th {\n",
       "        text-align: right;\n",
       "    }\n",
       "</style>\n",
       "<table border=\"1\" class=\"dataframe\">\n",
       "  <thead>\n",
       "    <tr style=\"text-align: right;\">\n",
       "      <th></th>\n",
       "      <th>X_loc</th>\n",
       "      <th>y_loc</th>\n",
       "      <th>minute</th>\n",
       "      <th>type.name</th>\n",
       "      <th>carry.end_location</th>\n",
       "      <th>cend_x</th>\n",
       "      <th>cend_y</th>\n",
       "    </tr>\n",
       "  </thead>\n",
       "  <tbody>\n",
       "    <tr>\n",
       "      <th>3094</th>\n",
       "      <td>23.0</td>\n",
       "      <td>50.0</td>\n",
       "      <td>79</td>\n",
       "      <td>Carry</td>\n",
       "      <td>[90.0, 48.0]</td>\n",
       "      <td>90.0</td>\n",
       "      <td>48.0</td>\n",
       "    </tr>\n",
       "    <tr>\n",
       "      <th>3241</th>\n",
       "      <td>68.0</td>\n",
       "      <td>62.0</td>\n",
       "      <td>84</td>\n",
       "      <td>Carry</td>\n",
       "      <td>[70.0, 58.0]</td>\n",
       "      <td>70.0</td>\n",
       "      <td>58.0</td>\n",
       "    </tr>\n",
       "    <tr>\n",
       "      <th>3392</th>\n",
       "      <td>35.0</td>\n",
       "      <td>48.0</td>\n",
       "      <td>89</td>\n",
       "      <td>Carry</td>\n",
       "      <td>[56.0, 42.0]</td>\n",
       "      <td>56.0</td>\n",
       "      <td>42.0</td>\n",
       "    </tr>\n",
       "    <tr>\n",
       "      <th>3514</th>\n",
       "      <td>50.0</td>\n",
       "      <td>75.0</td>\n",
       "      <td>91</td>\n",
       "      <td>Carry</td>\n",
       "      <td>[58.0, 54.0]</td>\n",
       "      <td>58.0</td>\n",
       "      <td>54.0</td>\n",
       "    </tr>\n",
       "    <tr>\n",
       "      <th>3517</th>\n",
       "      <td>58.0</td>\n",
       "      <td>54.0</td>\n",
       "      <td>91</td>\n",
       "      <td>Carry</td>\n",
       "      <td>[83.0, 78.0]</td>\n",
       "      <td>83.0</td>\n",
       "      <td>78.0</td>\n",
       "    </tr>\n",
       "  </tbody>\n",
       "</table>\n",
       "</div>"
      ],
      "text/plain": [
       "      X_loc  y_loc  minute type.name carry.end_location  cend_x  cend_y\n",
       "3094   23.0   50.0      79     Carry       [90.0, 48.0]    90.0    48.0\n",
       "3241   68.0   62.0      84     Carry       [70.0, 58.0]    70.0    58.0\n",
       "3392   35.0   48.0      89     Carry       [56.0, 42.0]    56.0    42.0\n",
       "3514   50.0   75.0      91     Carry       [58.0, 54.0]    58.0    54.0\n",
       "3517   58.0   54.0      91     Carry       [83.0, 78.0]    83.0    78.0"
      ]
     },
     "execution_count": 40,
     "metadata": {},
     "output_type": "execute_result"
    }
   ],
   "source": [
    "hazdrib"
   ]
  },
  {
   "cell_type": "code",
   "execution_count": 41,
   "metadata": {},
   "outputs": [
    {
     "data": {
      "text/plain": [
       "Text(0.5, 1.0, \"Hazards Dribbles after 75'\")"
      ]
     },
     "execution_count": 41,
     "metadata": {},
     "output_type": "execute_result"
    },
    {
     "data": {
      "image/png": "[encoded data removed]",
      "text/plain": [
       "<Figure size 720x432 with 1 Axes>"
      ]
     },
     "metadata": {},
     "output_type": "display_data"
    }
   ],
   "source": [
    "pitch = Pitch(pitch_type='statsbomb',figsize=(10,6))\n",
    "fig,ax = pitch.draw()\n",
    "pitch.lines(hazdrib.X_loc,hazdrib.y_loc,hazdrib.cend_x,hazdrib.cend_y,\n",
    "            lw=10, ax=ax,comet=True, cmap='cool')\n",
    "pitch.scatter(x=\"cend_x\",y=\"cend_y\",data=hazdrib,ax=ax,s=300,c=\"black\")\n",
    "plt.title(\"Hazards Dribbles after 75'\")\n"
   ]
  },
  {
   "cell_type": "code",
   "execution_count": 42,
   "metadata": {},
   "outputs": [],
   "source": [
    "#Intrestingly the end location of some of the dribbles seems to match wid the fouls "
   ]
  },
  {
   "cell_type": "code",
   "execution_count": 43,
   "metadata": {},
   "outputs": [],
   "source": [
    "#hazard also acted as the third wheel in the red devils attack \n",
    "#he supported de bruyne and lukaku in attack and was lively throughout the game \n",
    "\n",
    "#lets check his completed passes(forward) in the final third of the pitch "
   ]
  },
  {
   "cell_type": "code",
   "execution_count": 44,
   "metadata": {},
   "outputs": [],
   "source": [
    "hazpas=haz[(haz[\"type.name\"]==\"Pass\") & (haz[\"X_loc\"]>80) & ((haz[\"pend_x\"]-haz[\"X_loc\"])>0) & \n",
    "           (haz[\"pass.outcome.name\"]!=\"Incomplete\")]"
   ]
  },
  {
   "cell_type": "code",
   "execution_count": 45,
   "metadata": {},
   "outputs": [
    {
     "data": {
      "text/html": [
       "<div>\n",
       "<style scoped>\n",
       "    .dataframe tbody tr th:only-of-type {\n",
       "        vertical-align: middle;\n",
       "    }\n",
       "\n",
       "    .dataframe tbody tr th {\n",
       "        vertical-align: top;\n",
       "    }\n",
       "\n",
       "    .dataframe thead th {\n",
       "        text-align: right;\n",
       "    }\n",
       "</style>\n",
       "<table border=\"1\" class=\"dataframe\">\n",
       "  <thead>\n",
       "    <tr style=\"text-align: right;\">\n",
       "      <th></th>\n",
       "      <th>X_loc</th>\n",
       "      <th>y_loc</th>\n",
       "      <th>minute</th>\n",
       "      <th>type.name</th>\n",
       "      <th>pend_x</th>\n",
       "      <th>pend_y</th>\n",
       "    </tr>\n",
       "  </thead>\n",
       "  <tbody>\n",
       "    <tr>\n",
       "      <th>869</th>\n",
       "      <td>94.0</td>\n",
       "      <td>52.0</td>\n",
       "      <td>20</td>\n",
       "      <td>Pass</td>\n",
       "      <td>113.0</td>\n",
       "      <td>55.0</td>\n",
       "    </tr>\n",
       "    <tr>\n",
       "      <th>1072</th>\n",
       "      <td>84.0</td>\n",
       "      <td>25.0</td>\n",
       "      <td>25</td>\n",
       "      <td>Pass</td>\n",
       "      <td>101.0</td>\n",
       "      <td>20.0</td>\n",
       "    </tr>\n",
       "    <tr>\n",
       "      <th>1255</th>\n",
       "      <td>90.0</td>\n",
       "      <td>10.0</td>\n",
       "      <td>33</td>\n",
       "      <td>Pass</td>\n",
       "      <td>95.0</td>\n",
       "      <td>18.0</td>\n",
       "    </tr>\n",
       "    <tr>\n",
       "      <th>1428</th>\n",
       "      <td>92.0</td>\n",
       "      <td>27.0</td>\n",
       "      <td>37</td>\n",
       "      <td>Pass</td>\n",
       "      <td>95.0</td>\n",
       "      <td>42.0</td>\n",
       "    </tr>\n",
       "    <tr>\n",
       "      <th>2599</th>\n",
       "      <td>83.0</td>\n",
       "      <td>16.0</td>\n",
       "      <td>63</td>\n",
       "      <td>Pass</td>\n",
       "      <td>87.0</td>\n",
       "      <td>4.0</td>\n",
       "    </tr>\n",
       "    <tr>\n",
       "      <th>2666</th>\n",
       "      <td>91.0</td>\n",
       "      <td>5.0</td>\n",
       "      <td>64</td>\n",
       "      <td>Pass</td>\n",
       "      <td>97.0</td>\n",
       "      <td>14.0</td>\n",
       "    </tr>\n",
       "    <tr>\n",
       "      <th>3569</th>\n",
       "      <td>89.0</td>\n",
       "      <td>63.0</td>\n",
       "      <td>94</td>\n",
       "      <td>Pass</td>\n",
       "      <td>105.0</td>\n",
       "      <td>78.0</td>\n",
       "    </tr>\n",
       "  </tbody>\n",
       "</table>\n",
       "</div>"
      ],
      "text/plain": [
       "      X_loc  y_loc  minute type.name  pend_x  pend_y\n",
       "869    94.0   52.0      20      Pass   113.0    55.0\n",
       "1072   84.0   25.0      25      Pass   101.0    20.0\n",
       "1255   90.0   10.0      33      Pass    95.0    18.0\n",
       "1428   92.0   27.0      37      Pass    95.0    42.0\n",
       "2599   83.0   16.0      63      Pass    87.0     4.0\n",
       "2666   91.0    5.0      64      Pass    97.0    14.0\n",
       "3569   89.0   63.0      94      Pass   105.0    78.0"
      ]
     },
     "execution_count": 45,
     "metadata": {},
     "output_type": "execute_result"
    }
   ],
   "source": [
    "hazpas[[\"X_loc\",\"y_loc\",\"minute\",\"type.name\",\"pend_x\",\"pend_y\"]]"
   ]
  },
  {
   "cell_type": "code",
   "execution_count": 46,
   "metadata": {},
   "outputs": [
    {
     "data": {
      "text/plain": [
       "Text(0.5, 1.0, 'Hazards final third passes')"
      ]
     },
     "execution_count": 46,
     "metadata": {},
     "output_type": "execute_result"
    },
    {
     "data": {
      "image/png": "[encoded data removed]",
      "text/plain": [
       "<Figure size 720x432 with 1 Axes>"
      ]
     },
     "metadata": {},
     "output_type": "display_data"
    }
   ],
   "source": [
    "pitch = Pitch(pitch_type='statsbomb',figsize=(10,6))\n",
    "fig,ax = pitch.draw()\n",
    "pitch.lines(hazpas.X_loc,hazpas.y_loc,hazpas.pend_x,hazpas.pend_y,\n",
    "            lw=10, ax=ax,comet=True, cmap='coolwarm',label='passes in the final third')\n",
    "pitch.scatter(x=\"pend_x\",y=\"pend_y\",data=hazpas,ax=ax,s=300,c=\"black\",label=\"\")\n",
    "plt.title(\"Hazards final third passes\")"
   ]
  },
  {
   "cell_type": "code",
   "execution_count": 71,
   "metadata": {},
   "outputs": [
    {
     "data": {
      "text/html": [
       "<div>\n",
       "<style scoped>\n",
       "    .dataframe tbody tr th:only-of-type {\n",
       "        vertical-align: middle;\n",
       "    }\n",
       "\n",
       "    .dataframe tbody tr th {\n",
       "        vertical-align: top;\n",
       "    }\n",
       "\n",
       "    .dataframe thead th {\n",
       "        text-align: right;\n",
       "    }\n",
       "</style>\n",
       "<table border=\"1\" class=\"dataframe\">\n",
       "  <thead>\n",
       "    <tr style=\"text-align: right;\">\n",
       "      <th></th>\n",
       "      <th>id</th>\n",
       "      <th>index</th>\n",
       "      <th>period</th>\n",
       "      <th>timestamp</th>\n",
       "      <th>minute</th>\n",
       "      <th>second</th>\n",
       "      <th>possession</th>\n",
       "      <th>duration</th>\n",
       "      <th>type.id</th>\n",
       "      <th>type.name</th>\n",
       "      <th>...</th>\n",
       "      <th>50_50.outcome.name</th>\n",
       "      <th>ball_recovery.offensive</th>\n",
       "      <th>shot.deflected</th>\n",
       "      <th>shot.redirect</th>\n",
       "      <th>X_loc</th>\n",
       "      <th>pend_x</th>\n",
       "      <th>cend_x</th>\n",
       "      <th>pend_y</th>\n",
       "      <th>cend_y</th>\n",
       "      <th>y_loc</th>\n",
       "    </tr>\n",
       "  </thead>\n",
       "  <tbody>\n",
       "    <tr>\n",
       "      <th>324</th>\n",
       "      <td>6d0270c0-744d-4421-8e46-26f5e8a22475</td>\n",
       "      <td>325</td>\n",
       "      <td>1</td>\n",
       "      <td>00:07:32.580</td>\n",
       "      <td>7</td>\n",
       "      <td>32</td>\n",
       "      <td>16</td>\n",
       "      <td>0.173</td>\n",
       "      <td>16</td>\n",
       "      <td>Shot</td>\n",
       "      <td>...</td>\n",
       "      <td>NaN</td>\n",
       "      <td>NaN</td>\n",
       "      <td>NaN</td>\n",
       "      <td>NaN</td>\n",
       "      <td>106.0</td>\n",
       "      <td>NaN</td>\n",
       "      <td>NaN</td>\n",
       "      <td>NaN</td>\n",
       "      <td>NaN</td>\n",
       "      <td>31.0</td>\n",
       "    </tr>\n",
       "    <tr>\n",
       "      <th>2497</th>\n",
       "      <td>551e5d4b-d633-4146-bc97-08c7f4348a8e</td>\n",
       "      <td>2498</td>\n",
       "      <td>2</td>\n",
       "      <td>00:16:15.787</td>\n",
       "      <td>61</td>\n",
       "      <td>15</td>\n",
       "      <td>114</td>\n",
       "      <td>1.013</td>\n",
       "      <td>16</td>\n",
       "      <td>Shot</td>\n",
       "      <td>...</td>\n",
       "      <td>NaN</td>\n",
       "      <td>NaN</td>\n",
       "      <td>NaN</td>\n",
       "      <td>NaN</td>\n",
       "      <td>108.0</td>\n",
       "      <td>NaN</td>\n",
       "      <td>NaN</td>\n",
       "      <td>NaN</td>\n",
       "      <td>NaN</td>\n",
       "      <td>27.0</td>\n",
       "    </tr>\n",
       "  </tbody>\n",
       "</table>\n",
       "<p>2 rows × 127 columns</p>\n",
       "</div>"
      ],
      "text/plain": [
       "                                        id  index  period     timestamp  \\\n",
       "324   6d0270c0-744d-4421-8e46-26f5e8a22475    325       1  00:07:32.580   \n",
       "2497  551e5d4b-d633-4146-bc97-08c7f4348a8e   2498       2  00:16:15.787   \n",
       "\n",
       "      minute  second  possession  duration  type.id type.name  ...  \\\n",
       "324        7      32          16     0.173       16      Shot  ...   \n",
       "2497      61      15         114     1.013       16      Shot  ...   \n",
       "\n",
       "      50_50.outcome.name ball_recovery.offensive  shot.deflected  \\\n",
       "324                  NaN                     NaN             NaN   \n",
       "2497                 NaN                     NaN             NaN   \n",
       "\n",
       "     shot.redirect  X_loc pend_x  cend_x pend_y cend_y y_loc  \n",
       "324            NaN  106.0    NaN     NaN    NaN    NaN  31.0  \n",
       "2497           NaN  108.0    NaN     NaN    NaN    NaN  27.0  \n",
       "\n",
       "[2 rows x 127 columns]"
      ]
     },
     "execution_count": 71,
     "metadata": {},
     "output_type": "execute_result"
    }
   ],
   "source": [
    "haz[haz[\"type.name\"]==\"Shot\"]"
   ]
  },
  {
   "cell_type": "code",
   "execution_count": 57,
   "metadata": {},
   "outputs": [],
   "source": [
    "ney=brabel[brabel[\"player.name\"]==\"Neymar da Silva Santos Junior\"]"
   ]
  },
  {
   "cell_type": "code",
   "execution_count": 72,
   "metadata": {},
   "outputs": [
    {
     "data": {
      "text/html": [
       "<div>\n",
       "<style scoped>\n",
       "    .dataframe tbody tr th:only-of-type {\n",
       "        vertical-align: middle;\n",
       "    }\n",
       "\n",
       "    .dataframe tbody tr th {\n",
       "        vertical-align: top;\n",
       "    }\n",
       "\n",
       "    .dataframe thead th {\n",
       "        text-align: right;\n",
       "    }\n",
       "</style>\n",
       "<table border=\"1\" class=\"dataframe\">\n",
       "  <thead>\n",
       "    <tr style=\"text-align: right;\">\n",
       "      <th></th>\n",
       "      <th>id</th>\n",
       "      <th>index</th>\n",
       "      <th>period</th>\n",
       "      <th>timestamp</th>\n",
       "      <th>minute</th>\n",
       "      <th>second</th>\n",
       "      <th>possession</th>\n",
       "      <th>duration</th>\n",
       "      <th>type.id</th>\n",
       "      <th>type.name</th>\n",
       "      <th>...</th>\n",
       "      <th>injury_stoppage.in_chain</th>\n",
       "      <th>pass.cut_back</th>\n",
       "      <th>foul_committed.penalty</th>\n",
       "      <th>foul_won.penalty</th>\n",
       "      <th>block.save_block</th>\n",
       "      <th>50_50.outcome.id</th>\n",
       "      <th>50_50.outcome.name</th>\n",
       "      <th>ball_recovery.offensive</th>\n",
       "      <th>shot.deflected</th>\n",
       "      <th>shot.redirect</th>\n",
       "    </tr>\n",
       "  </thead>\n",
       "  <tbody>\n",
       "    <tr>\n",
       "      <th>1199</th>\n",
       "      <td>8fbe9f93-04ae-4be6-97ff-297e3c3fd4b4</td>\n",
       "      <td>1200</td>\n",
       "      <td>1</td>\n",
       "      <td>00:29:35.420</td>\n",
       "      <td>29</td>\n",
       "      <td>35</td>\n",
       "      <td>59</td>\n",
       "      <td>0.16</td>\n",
       "      <td>16</td>\n",
       "      <td>Shot</td>\n",
       "      <td>...</td>\n",
       "      <td>NaN</td>\n",
       "      <td>NaN</td>\n",
       "      <td>NaN</td>\n",
       "      <td>NaN</td>\n",
       "      <td>NaN</td>\n",
       "      <td>NaN</td>\n",
       "      <td>NaN</td>\n",
       "      <td>NaN</td>\n",
       "      <td>NaN</td>\n",
       "      <td>NaN</td>\n",
       "    </tr>\n",
       "    <tr>\n",
       "      <th>2958</th>\n",
       "      <td>dc3efc2e-b051-46d1-bb4f-6982d883ffef</td>\n",
       "      <td>2959</td>\n",
       "      <td>2</td>\n",
       "      <td>00:29:28.867</td>\n",
       "      <td>74</td>\n",
       "      <td>28</td>\n",
       "      <td>149</td>\n",
       "      <td>0.82</td>\n",
       "      <td>16</td>\n",
       "      <td>Shot</td>\n",
       "      <td>...</td>\n",
       "      <td>NaN</td>\n",
       "      <td>NaN</td>\n",
       "      <td>NaN</td>\n",
       "      <td>NaN</td>\n",
       "      <td>NaN</td>\n",
       "      <td>NaN</td>\n",
       "      <td>NaN</td>\n",
       "      <td>NaN</td>\n",
       "      <td>NaN</td>\n",
       "      <td>NaN</td>\n",
       "    </tr>\n",
       "    <tr>\n",
       "      <th>3558</th>\n",
       "      <td>cf017a4e-d5c5-4814-80d6-5146f044e551</td>\n",
       "      <td>3559</td>\n",
       "      <td>2</td>\n",
       "      <td>00:48:14.627</td>\n",
       "      <td>93</td>\n",
       "      <td>14</td>\n",
       "      <td>179</td>\n",
       "      <td>0.88</td>\n",
       "      <td>16</td>\n",
       "      <td>Shot</td>\n",
       "      <td>...</td>\n",
       "      <td>NaN</td>\n",
       "      <td>NaN</td>\n",
       "      <td>NaN</td>\n",
       "      <td>NaN</td>\n",
       "      <td>NaN</td>\n",
       "      <td>NaN</td>\n",
       "      <td>NaN</td>\n",
       "      <td>NaN</td>\n",
       "      <td>NaN</td>\n",
       "      <td>NaN</td>\n",
       "    </tr>\n",
       "  </tbody>\n",
       "</table>\n",
       "<p>3 rows × 121 columns</p>\n",
       "</div>"
      ],
      "text/plain": [
       "                                        id  index  period     timestamp  \\\n",
       "1199  8fbe9f93-04ae-4be6-97ff-297e3c3fd4b4   1200       1  00:29:35.420   \n",
       "2958  dc3efc2e-b051-46d1-bb4f-6982d883ffef   2959       2  00:29:28.867   \n",
       "3558  cf017a4e-d5c5-4814-80d6-5146f044e551   3559       2  00:48:14.627   \n",
       "\n",
       "      minute  second  possession  duration  type.id type.name  ...  \\\n",
       "1199      29      35          59      0.16       16      Shot  ...   \n",
       "2958      74      28         149      0.82       16      Shot  ...   \n",
       "3558      93      14         179      0.88       16      Shot  ...   \n",
       "\n",
       "      injury_stoppage.in_chain pass.cut_back  foul_committed.penalty  \\\n",
       "1199                       NaN           NaN                     NaN   \n",
       "2958                       NaN           NaN                     NaN   \n",
       "3558                       NaN           NaN                     NaN   \n",
       "\n",
       "     foul_won.penalty  block.save_block 50_50.outcome.id  50_50.outcome.name  \\\n",
       "1199              NaN               NaN              NaN                 NaN   \n",
       "2958              NaN               NaN              NaN                 NaN   \n",
       "3558              NaN               NaN              NaN                 NaN   \n",
       "\n",
       "     ball_recovery.offensive shot.deflected shot.redirect  \n",
       "1199                     NaN            NaN           NaN  \n",
       "2958                     NaN            NaN           NaN  \n",
       "3558                     NaN            NaN           NaN  \n",
       "\n",
       "[3 rows x 121 columns]"
      ]
     },
     "execution_count": 72,
     "metadata": {},
     "output_type": "execute_result"
    }
   ],
   "source": [
    "ney[ney[\"type.name\"]==\"Shot\"]"
   ]
  },
  {
   "cell_type": "code",
   "execution_count": 61,
   "metadata": {},
   "outputs": [],
   "source": [
    "x1=[106,108]\n",
    "y1=[31,27]"
   ]
  },
  {
   "cell_type": "code",
   "execution_count": 62,
   "metadata": {},
   "outputs": [],
   "source": [
    "x2=[96,108,98]\n",
    "y2=[20,45,39]"
   ]
  },
  {
   "cell_type": "code",
   "execution_count": 70,
   "metadata": {},
   "outputs": [
    {
     "data": {
      "text/plain": [
       "<matplotlib.legend.Legend at 0x1ad7b08bc18>"
      ]
     },
     "execution_count": 70,
     "metadata": {},
     "output_type": "execute_result"
    },
    {
     "data": {
      "image/png": "[encoded data removed]",
      "text/plain": [
       "<Figure size 720x432 with 1 Axes>"
      ]
     },
     "metadata": {},
     "output_type": "display_data"
    }
   ],
   "source": [
    "pitch = Pitch(pitch_type='statsbomb',figsize=(10,6),pitch_color='#aabb97', line_color='white',stripe_color='#c2d59d', stripe=True)\n",
    "fig,ax = pitch.draw()\n",
    "pitch.scatter(x1,y1,ax=ax,s=100,color=\"red\",label=\"hazard\")\n",
    "pitch.scatter(x2,y2,ax=ax,s=100,color=\"blue\",label=\"neymar\")\n",
    "plt.legend()"
   ]
  },
  {
   "cell_type": "code",
   "execution_count": null,
   "metadata": {},
   "outputs": [],
   "source": []
  }
 ],
 "metadata": {
  "kernelspec": {
   "display_name": "Python 3 (ipykernel)",
   "language": "python",
   "name": "python3"
  },
  "language_info": {
   "codemirror_mode": {
    "name": "ipython",
    "version": 3
   },
   "file_extension": ".py",
   "mimetype": "text/x-python",
   "name": "python",
   "nbconvert_exporter": "python",
   "pygments_lexer": "ipython3",
   "version": "3.10.12"
  }
 },
 "nbformat": 4,
 "nbformat_minor": 4
}
